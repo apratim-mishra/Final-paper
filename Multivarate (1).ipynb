{
 "cells": [
  {
   "cell_type": "code",
   "execution_count": 3,
   "metadata": {},
   "outputs": [],
   "source": [
    "import pandas as pd"
   ]
  },
  {
   "cell_type": "code",
   "execution_count": 4,
   "metadata": {},
   "outputs": [
    {
     "data": {
      "text/plain": [
       "0    3.51\n",
       "dtype: float64"
      ]
     },
     "execution_count": 4,
     "metadata": {},
     "output_type": "execute_result"
    }
   ],
   "source": [
    "pd.Series(3.51,copy=10)"
   ]
  },
  {
   "cell_type": "code",
   "execution_count": 5,
   "metadata": {},
   "outputs": [],
   "source": [
    "import os\n",
    "os.environ['KERAS_BACKEND'] = 'tensorflow'\n",
    "# rest of the code"
   ]
  },
  {
   "cell_type": "code",
   "execution_count": 6,
   "metadata": {},
   "outputs": [
    {
     "name": "stderr",
     "output_type": "stream",
     "text": [
      "C:\\Users\\Apratim\\Anaconda3\\envs\\tensorflow\\lib\\site-packages\\h5py\\__init__.py:36: FutureWarning: Conversion of the second argument of issubdtype from `float` to `np.floating` is deprecated. In future, it will be treated as `np.float64 == np.dtype(float).type`.\n",
      "  from ._conv import register_converters as _register_converters\n",
      "Using TensorFlow backend.\n"
     ]
    }
   ],
   "source": [
    "import numpy as np\n",
    "import pandas as pd\n",
    "import matplotlib.pyplot as plt\n",
    "\n",
    "%matplotlib inline\n",
    "\n",
    "import matplotlib.pyplot as plt\n",
    "import numpy as np\n",
    "import time\n",
    "import csv\n",
    "from keras.models import Sequential\n",
    "from keras.layers.core import Dense, Activation, Dropout\n",
    "from keras.layers.recurrent import LSTM\n",
    "np.random.seed(1234)"
   ]
  },
  {
   "cell_type": "code",
   "execution_count": 7,
   "metadata": {},
   "outputs": [
    {
     "name": "stderr",
     "output_type": "stream",
     "text": [
      "C:\\Users\\Apratim\\Anaconda3\\envs\\tensorflow\\lib\\site-packages\\IPython\\core\\interactiveshell.py:2728: DtypeWarning: Columns (2,3,4,5,6,7) have mixed types. Specify dtype option on import or set low_memory=False.\n",
      "  interactivity=interactivity, compiler=compiler, result=result)\n"
     ]
    }
   ],
   "source": [
    "content=pd.read_csv('household_power_consumption.txt',delimiter=';')"
   ]
  },
  {
   "cell_type": "code",
   "execution_count": 155,
   "metadata": {},
   "outputs": [
    {
     "data": {
      "text/html": [
       "<div>\n",
       "<style scoped>\n",
       "    .dataframe tbody tr th:only-of-type {\n",
       "        vertical-align: middle;\n",
       "    }\n",
       "\n",
       "    .dataframe tbody tr th {\n",
       "        vertical-align: top;\n",
       "    }\n",
       "\n",
       "    .dataframe thead th {\n",
       "        text-align: right;\n",
       "    }\n",
       "</style>\n",
       "<table border=\"1\" class=\"dataframe\">\n",
       "  <thead>\n",
       "    <tr style=\"text-align: right;\">\n",
       "      <th></th>\n",
       "      <th>Global_active_power</th>\n",
       "      <th>Voltage</th>\n",
       "      <th>Global_intensity</th>\n",
       "      <th>DATE_TIME</th>\n",
       "      <th>T_1</th>\n",
       "      <th>T_2</th>\n",
       "      <th>T_3</th>\n",
       "      <th>T_4</th>\n",
       "      <th>T_5</th>\n",
       "      <th>IS_HOLIDAY</th>\n",
       "    </tr>\n",
       "  </thead>\n",
       "  <tbody>\n",
       "    <tr>\n",
       "      <th>0</th>\n",
       "      <td>4.216</td>\n",
       "      <td>234.84</td>\n",
       "      <td>18.4</td>\n",
       "      <td>2006-12-16 17:24:00</td>\n",
       "      <td>0.000</td>\n",
       "      <td>0.000</td>\n",
       "      <td>0.000</td>\n",
       "      <td>0.000</td>\n",
       "      <td>0.0</td>\n",
       "      <td>0</td>\n",
       "    </tr>\n",
       "    <tr>\n",
       "      <th>1</th>\n",
       "      <td>5.360</td>\n",
       "      <td>233.63</td>\n",
       "      <td>23.0</td>\n",
       "      <td>2006-12-16 17:25:00</td>\n",
       "      <td>4.216</td>\n",
       "      <td>0.000</td>\n",
       "      <td>0.000</td>\n",
       "      <td>0.000</td>\n",
       "      <td>0.0</td>\n",
       "      <td>0</td>\n",
       "    </tr>\n",
       "    <tr>\n",
       "      <th>2</th>\n",
       "      <td>5.374</td>\n",
       "      <td>233.29</td>\n",
       "      <td>23.0</td>\n",
       "      <td>2006-12-16 17:26:00</td>\n",
       "      <td>5.360</td>\n",
       "      <td>4.216</td>\n",
       "      <td>0.000</td>\n",
       "      <td>0.000</td>\n",
       "      <td>0.0</td>\n",
       "      <td>0</td>\n",
       "    </tr>\n",
       "    <tr>\n",
       "      <th>3</th>\n",
       "      <td>5.388</td>\n",
       "      <td>233.74</td>\n",
       "      <td>23.0</td>\n",
       "      <td>2006-12-16 17:27:00</td>\n",
       "      <td>5.374</td>\n",
       "      <td>5.360</td>\n",
       "      <td>4.216</td>\n",
       "      <td>0.000</td>\n",
       "      <td>0.0</td>\n",
       "      <td>0</td>\n",
       "    </tr>\n",
       "    <tr>\n",
       "      <th>4</th>\n",
       "      <td>3.666</td>\n",
       "      <td>235.68</td>\n",
       "      <td>15.8</td>\n",
       "      <td>2006-12-16 17:28:00</td>\n",
       "      <td>5.388</td>\n",
       "      <td>5.374</td>\n",
       "      <td>5.360</td>\n",
       "      <td>4.216</td>\n",
       "      <td>0.0</td>\n",
       "      <td>0</td>\n",
       "    </tr>\n",
       "  </tbody>\n",
       "</table>\n",
       "</div>"
      ],
      "text/plain": [
       "   Global_active_power  Voltage  Global_intensity           DATE_TIME    T_1  \\\n",
       "0                4.216   234.84              18.4 2006-12-16 17:24:00  0.000   \n",
       "1                5.360   233.63              23.0 2006-12-16 17:25:00  4.216   \n",
       "2                5.374   233.29              23.0 2006-12-16 17:26:00  5.360   \n",
       "3                5.388   233.74              23.0 2006-12-16 17:27:00  5.374   \n",
       "4                3.666   235.68              15.8 2006-12-16 17:28:00  5.388   \n",
       "\n",
       "     T_2    T_3    T_4  T_5  IS_HOLIDAY  \n",
       "0  0.000  0.000  0.000  0.0           0  \n",
       "1  0.000  0.000  0.000  0.0           0  \n",
       "2  4.216  0.000  0.000  0.0           0  \n",
       "3  5.360  4.216  0.000  0.0           0  \n",
       "4  5.374  5.360  4.216  0.0           0  "
      ]
     },
     "execution_count": 155,
     "metadata": {},
     "output_type": "execute_result"
    }
   ],
   "source": [
    "content.head()"
   ]
  },
  {
   "cell_type": "code",
   "execution_count": 9,
   "metadata": {},
   "outputs": [
    {
     "data": {
      "text/plain": [
       "2075259"
      ]
     },
     "execution_count": 9,
     "metadata": {},
     "output_type": "execute_result"
    }
   ],
   "source": [
    "len(content)"
   ]
  },
  {
   "cell_type": "code",
   "execution_count": 10,
   "metadata": {},
   "outputs": [
    {
     "data": {
      "text/plain": [
       "Date                      object\n",
       "Time                      object\n",
       "Global_active_power       object\n",
       "Global_reactive_power     object\n",
       "Voltage                   object\n",
       "Global_intensity          object\n",
       "Sub_metering_1            object\n",
       "Sub_metering_2            object\n",
       "Sub_metering_3           float64\n",
       "dtype: object"
      ]
     },
     "execution_count": 10,
     "metadata": {},
     "output_type": "execute_result"
    }
   ],
   "source": [
    "content.dtypes"
   ]
  },
  {
   "cell_type": "code",
   "execution_count": 11,
   "metadata": {},
   "outputs": [
    {
     "name": "stderr",
     "output_type": "stream",
     "text": [
      "C:\\Users\\Apratim\\Anaconda3\\envs\\tensorflow\\lib\\site-packages\\ipykernel_launcher.py:1: UserWarning: Pandas doesn't allow columns to be created via a new attribute name - see https://pandas.pydata.org/pandas-docs/stable/indexing.html#attribute-access\n",
      "  \"\"\"Entry point for launching an IPython kernel.\n"
     ]
    }
   ],
   "source": [
    "content.datatime = content.Date+' '+content.Time"
   ]
  },
  {
   "cell_type": "code",
   "execution_count": 12,
   "metadata": {},
   "outputs": [
    {
     "data": {
      "text/plain": [
       "Index(['Date', 'Time', 'Global_active_power', 'Global_reactive_power',\n",
       "       'Voltage', 'Global_intensity', 'Sub_metering_1', 'Sub_metering_2',\n",
       "       'Sub_metering_3'],\n",
       "      dtype='object')"
      ]
     },
     "execution_count": 12,
     "metadata": {},
     "output_type": "execute_result"
    }
   ],
   "source": [
    "content.columns"
   ]
  },
  {
   "cell_type": "code",
   "execution_count": 13,
   "metadata": {},
   "outputs": [
    {
     "data": {
      "text/html": [
       "<div>\n",
       "<style scoped>\n",
       "    .dataframe tbody tr th:only-of-type {\n",
       "        vertical-align: middle;\n",
       "    }\n",
       "\n",
       "    .dataframe tbody tr th {\n",
       "        vertical-align: top;\n",
       "    }\n",
       "\n",
       "    .dataframe thead th {\n",
       "        text-align: right;\n",
       "    }\n",
       "</style>\n",
       "<table border=\"1\" class=\"dataframe\">\n",
       "  <thead>\n",
       "    <tr style=\"text-align: right;\">\n",
       "      <th></th>\n",
       "      <th>Sub_metering_3</th>\n",
       "    </tr>\n",
       "  </thead>\n",
       "  <tbody>\n",
       "    <tr>\n",
       "      <th>count</th>\n",
       "      <td>2.049280e+06</td>\n",
       "    </tr>\n",
       "    <tr>\n",
       "      <th>mean</th>\n",
       "      <td>6.458447e+00</td>\n",
       "    </tr>\n",
       "    <tr>\n",
       "      <th>std</th>\n",
       "      <td>8.437154e+00</td>\n",
       "    </tr>\n",
       "    <tr>\n",
       "      <th>min</th>\n",
       "      <td>0.000000e+00</td>\n",
       "    </tr>\n",
       "    <tr>\n",
       "      <th>25%</th>\n",
       "      <td>0.000000e+00</td>\n",
       "    </tr>\n",
       "    <tr>\n",
       "      <th>50%</th>\n",
       "      <td>1.000000e+00</td>\n",
       "    </tr>\n",
       "    <tr>\n",
       "      <th>75%</th>\n",
       "      <td>1.700000e+01</td>\n",
       "    </tr>\n",
       "    <tr>\n",
       "      <th>max</th>\n",
       "      <td>3.100000e+01</td>\n",
       "    </tr>\n",
       "  </tbody>\n",
       "</table>\n",
       "</div>"
      ],
      "text/plain": [
       "       Sub_metering_3\n",
       "count    2.049280e+06\n",
       "mean     6.458447e+00\n",
       "std      8.437154e+00\n",
       "min      0.000000e+00\n",
       "25%      0.000000e+00\n",
       "50%      1.000000e+00\n",
       "75%      1.700000e+01\n",
       "max      3.100000e+01"
      ]
     },
     "execution_count": 13,
     "metadata": {},
     "output_type": "execute_result"
    }
   ],
   "source": [
    "content.describe()"
   ]
  },
  {
   "cell_type": "code",
   "execution_count": 14,
   "metadata": {},
   "outputs": [
    {
     "data": {
      "text/plain": [
       "Date                     False\n",
       "Time                     False\n",
       "Global_active_power      False\n",
       "Global_reactive_power    False\n",
       "Voltage                  False\n",
       "Global_intensity         False\n",
       "Sub_metering_1           False\n",
       "Sub_metering_2           False\n",
       "Sub_metering_3            True\n",
       "dtype: bool"
      ]
     },
     "execution_count": 14,
     "metadata": {},
     "output_type": "execute_result"
    }
   ],
   "source": [
    "content.isnull().any()"
   ]
  },
  {
   "cell_type": "code",
   "execution_count": 15,
   "metadata": {},
   "outputs": [],
   "source": [
    "from pandas.tseries.holiday import USFederalHolidayCalendar as calendar"
   ]
  },
  {
   "cell_type": "code",
   "execution_count": 16,
   "metadata": {},
   "outputs": [],
   "source": [
    "content[\"DATE_TIME\"] = pd.to_datetime(content.Date + \" \" + content[\"Time\"])"
   ]
  },
  {
   "cell_type": "code",
   "execution_count": 17,
   "metadata": {},
   "outputs": [
    {
     "data": {
      "text/html": [
       "<div>\n",
       "<style scoped>\n",
       "    .dataframe tbody tr th:only-of-type {\n",
       "        vertical-align: middle;\n",
       "    }\n",
       "\n",
       "    .dataframe tbody tr th {\n",
       "        vertical-align: top;\n",
       "    }\n",
       "\n",
       "    .dataframe thead th {\n",
       "        text-align: right;\n",
       "    }\n",
       "</style>\n",
       "<table border=\"1\" class=\"dataframe\">\n",
       "  <thead>\n",
       "    <tr style=\"text-align: right;\">\n",
       "      <th></th>\n",
       "      <th>Date</th>\n",
       "      <th>Time</th>\n",
       "      <th>Global_active_power</th>\n",
       "      <th>Global_reactive_power</th>\n",
       "      <th>Voltage</th>\n",
       "      <th>Global_intensity</th>\n",
       "      <th>Sub_metering_1</th>\n",
       "      <th>Sub_metering_2</th>\n",
       "      <th>Sub_metering_3</th>\n",
       "      <th>DATE_TIME</th>\n",
       "    </tr>\n",
       "  </thead>\n",
       "  <tbody>\n",
       "    <tr>\n",
       "      <th>0</th>\n",
       "      <td>16/12/2006</td>\n",
       "      <td>17:24:00</td>\n",
       "      <td>4.216</td>\n",
       "      <td>0.418</td>\n",
       "      <td>234.840</td>\n",
       "      <td>18.400</td>\n",
       "      <td>0.000</td>\n",
       "      <td>1.000</td>\n",
       "      <td>17.0</td>\n",
       "      <td>2006-12-16 17:24:00</td>\n",
       "    </tr>\n",
       "    <tr>\n",
       "      <th>1</th>\n",
       "      <td>16/12/2006</td>\n",
       "      <td>17:25:00</td>\n",
       "      <td>5.360</td>\n",
       "      <td>0.436</td>\n",
       "      <td>233.630</td>\n",
       "      <td>23.000</td>\n",
       "      <td>0.000</td>\n",
       "      <td>1.000</td>\n",
       "      <td>16.0</td>\n",
       "      <td>2006-12-16 17:25:00</td>\n",
       "    </tr>\n",
       "    <tr>\n",
       "      <th>2</th>\n",
       "      <td>16/12/2006</td>\n",
       "      <td>17:26:00</td>\n",
       "      <td>5.374</td>\n",
       "      <td>0.498</td>\n",
       "      <td>233.290</td>\n",
       "      <td>23.000</td>\n",
       "      <td>0.000</td>\n",
       "      <td>2.000</td>\n",
       "      <td>17.0</td>\n",
       "      <td>2006-12-16 17:26:00</td>\n",
       "    </tr>\n",
       "    <tr>\n",
       "      <th>3</th>\n",
       "      <td>16/12/2006</td>\n",
       "      <td>17:27:00</td>\n",
       "      <td>5.388</td>\n",
       "      <td>0.502</td>\n",
       "      <td>233.740</td>\n",
       "      <td>23.000</td>\n",
       "      <td>0.000</td>\n",
       "      <td>1.000</td>\n",
       "      <td>17.0</td>\n",
       "      <td>2006-12-16 17:27:00</td>\n",
       "    </tr>\n",
       "    <tr>\n",
       "      <th>4</th>\n",
       "      <td>16/12/2006</td>\n",
       "      <td>17:28:00</td>\n",
       "      <td>3.666</td>\n",
       "      <td>0.528</td>\n",
       "      <td>235.680</td>\n",
       "      <td>15.800</td>\n",
       "      <td>0.000</td>\n",
       "      <td>1.000</td>\n",
       "      <td>17.0</td>\n",
       "      <td>2006-12-16 17:28:00</td>\n",
       "    </tr>\n",
       "  </tbody>\n",
       "</table>\n",
       "</div>"
      ],
      "text/plain": [
       "         Date      Time Global_active_power Global_reactive_power  Voltage  \\\n",
       "0  16/12/2006  17:24:00               4.216                 0.418  234.840   \n",
       "1  16/12/2006  17:25:00               5.360                 0.436  233.630   \n",
       "2  16/12/2006  17:26:00               5.374                 0.498  233.290   \n",
       "3  16/12/2006  17:27:00               5.388                 0.502  233.740   \n",
       "4  16/12/2006  17:28:00               3.666                 0.528  235.680   \n",
       "\n",
       "  Global_intensity Sub_metering_1 Sub_metering_2  Sub_metering_3  \\\n",
       "0           18.400          0.000          1.000            17.0   \n",
       "1           23.000          0.000          1.000            16.0   \n",
       "2           23.000          0.000          2.000            17.0   \n",
       "3           23.000          0.000          1.000            17.0   \n",
       "4           15.800          0.000          1.000            17.0   \n",
       "\n",
       "            DATE_TIME  \n",
       "0 2006-12-16 17:24:00  \n",
       "1 2006-12-16 17:25:00  \n",
       "2 2006-12-16 17:26:00  \n",
       "3 2006-12-16 17:27:00  \n",
       "4 2006-12-16 17:28:00  "
      ]
     },
     "execution_count": 17,
     "metadata": {},
     "output_type": "execute_result"
    }
   ],
   "source": [
    "content.head()"
   ]
  },
  {
   "cell_type": "code",
   "execution_count": 18,
   "metadata": {},
   "outputs": [],
   "source": [
    "content=content.drop(['Date','Time','Global_reactive_power'],axis=1)"
   ]
  },
  {
   "cell_type": "code",
   "execution_count": 19,
   "metadata": {},
   "outputs": [
    {
     "data": {
      "text/html": [
       "<div>\n",
       "<style scoped>\n",
       "    .dataframe tbody tr th:only-of-type {\n",
       "        vertical-align: middle;\n",
       "    }\n",
       "\n",
       "    .dataframe tbody tr th {\n",
       "        vertical-align: top;\n",
       "    }\n",
       "\n",
       "    .dataframe thead th {\n",
       "        text-align: right;\n",
       "    }\n",
       "</style>\n",
       "<table border=\"1\" class=\"dataframe\">\n",
       "  <thead>\n",
       "    <tr style=\"text-align: right;\">\n",
       "      <th></th>\n",
       "      <th>Global_active_power</th>\n",
       "      <th>Voltage</th>\n",
       "      <th>Global_intensity</th>\n",
       "      <th>Sub_metering_1</th>\n",
       "      <th>Sub_metering_2</th>\n",
       "      <th>Sub_metering_3</th>\n",
       "      <th>DATE_TIME</th>\n",
       "    </tr>\n",
       "  </thead>\n",
       "  <tbody>\n",
       "    <tr>\n",
       "      <th>0</th>\n",
       "      <td>4.216</td>\n",
       "      <td>234.840</td>\n",
       "      <td>18.400</td>\n",
       "      <td>0.000</td>\n",
       "      <td>1.000</td>\n",
       "      <td>17.0</td>\n",
       "      <td>2006-12-16 17:24:00</td>\n",
       "    </tr>\n",
       "    <tr>\n",
       "      <th>1</th>\n",
       "      <td>5.360</td>\n",
       "      <td>233.630</td>\n",
       "      <td>23.000</td>\n",
       "      <td>0.000</td>\n",
       "      <td>1.000</td>\n",
       "      <td>16.0</td>\n",
       "      <td>2006-12-16 17:25:00</td>\n",
       "    </tr>\n",
       "    <tr>\n",
       "      <th>2</th>\n",
       "      <td>5.374</td>\n",
       "      <td>233.290</td>\n",
       "      <td>23.000</td>\n",
       "      <td>0.000</td>\n",
       "      <td>2.000</td>\n",
       "      <td>17.0</td>\n",
       "      <td>2006-12-16 17:26:00</td>\n",
       "    </tr>\n",
       "    <tr>\n",
       "      <th>3</th>\n",
       "      <td>5.388</td>\n",
       "      <td>233.740</td>\n",
       "      <td>23.000</td>\n",
       "      <td>0.000</td>\n",
       "      <td>1.000</td>\n",
       "      <td>17.0</td>\n",
       "      <td>2006-12-16 17:27:00</td>\n",
       "    </tr>\n",
       "    <tr>\n",
       "      <th>4</th>\n",
       "      <td>3.666</td>\n",
       "      <td>235.680</td>\n",
       "      <td>15.800</td>\n",
       "      <td>0.000</td>\n",
       "      <td>1.000</td>\n",
       "      <td>17.0</td>\n",
       "      <td>2006-12-16 17:28:00</td>\n",
       "    </tr>\n",
       "  </tbody>\n",
       "</table>\n",
       "</div>"
      ],
      "text/plain": [
       "  Global_active_power  Voltage Global_intensity Sub_metering_1 Sub_metering_2  \\\n",
       "0               4.216  234.840           18.400          0.000          1.000   \n",
       "1               5.360  233.630           23.000          0.000          1.000   \n",
       "2               5.374  233.290           23.000          0.000          2.000   \n",
       "3               5.388  233.740           23.000          0.000          1.000   \n",
       "4               3.666  235.680           15.800          0.000          1.000   \n",
       "\n",
       "   Sub_metering_3           DATE_TIME  \n",
       "0            17.0 2006-12-16 17:24:00  \n",
       "1            16.0 2006-12-16 17:25:00  \n",
       "2            17.0 2006-12-16 17:26:00  \n",
       "3            17.0 2006-12-16 17:27:00  \n",
       "4            17.0 2006-12-16 17:28:00  "
      ]
     },
     "execution_count": 19,
     "metadata": {},
     "output_type": "execute_result"
    }
   ],
   "source": [
    "content.head()"
   ]
  },
  {
   "cell_type": "code",
   "execution_count": 20,
   "metadata": {},
   "outputs": [],
   "source": [
    "content=content.drop(['Sub_metering_1','Sub_metering_2','Sub_metering_3'],axis=1)"
   ]
  },
  {
   "cell_type": "code",
   "execution_count": 21,
   "metadata": {},
   "outputs": [
    {
     "data": {
      "text/html": [
       "<div>\n",
       "<style scoped>\n",
       "    .dataframe tbody tr th:only-of-type {\n",
       "        vertical-align: middle;\n",
       "    }\n",
       "\n",
       "    .dataframe tbody tr th {\n",
       "        vertical-align: top;\n",
       "    }\n",
       "\n",
       "    .dataframe thead th {\n",
       "        text-align: right;\n",
       "    }\n",
       "</style>\n",
       "<table border=\"1\" class=\"dataframe\">\n",
       "  <thead>\n",
       "    <tr style=\"text-align: right;\">\n",
       "      <th></th>\n",
       "      <th>Global_active_power</th>\n",
       "      <th>Voltage</th>\n",
       "      <th>Global_intensity</th>\n",
       "      <th>DATE_TIME</th>\n",
       "    </tr>\n",
       "  </thead>\n",
       "  <tbody>\n",
       "    <tr>\n",
       "      <th>0</th>\n",
       "      <td>4.216</td>\n",
       "      <td>234.840</td>\n",
       "      <td>18.400</td>\n",
       "      <td>2006-12-16 17:24:00</td>\n",
       "    </tr>\n",
       "    <tr>\n",
       "      <th>1</th>\n",
       "      <td>5.360</td>\n",
       "      <td>233.630</td>\n",
       "      <td>23.000</td>\n",
       "      <td>2006-12-16 17:25:00</td>\n",
       "    </tr>\n",
       "    <tr>\n",
       "      <th>2</th>\n",
       "      <td>5.374</td>\n",
       "      <td>233.290</td>\n",
       "      <td>23.000</td>\n",
       "      <td>2006-12-16 17:26:00</td>\n",
       "    </tr>\n",
       "    <tr>\n",
       "      <th>3</th>\n",
       "      <td>5.388</td>\n",
       "      <td>233.740</td>\n",
       "      <td>23.000</td>\n",
       "      <td>2006-12-16 17:27:00</td>\n",
       "    </tr>\n",
       "    <tr>\n",
       "      <th>4</th>\n",
       "      <td>3.666</td>\n",
       "      <td>235.680</td>\n",
       "      <td>15.800</td>\n",
       "      <td>2006-12-16 17:28:00</td>\n",
       "    </tr>\n",
       "  </tbody>\n",
       "</table>\n",
       "</div>"
      ],
      "text/plain": [
       "  Global_active_power  Voltage Global_intensity           DATE_TIME\n",
       "0               4.216  234.840           18.400 2006-12-16 17:24:00\n",
       "1               5.360  233.630           23.000 2006-12-16 17:25:00\n",
       "2               5.374  233.290           23.000 2006-12-16 17:26:00\n",
       "3               5.388  233.740           23.000 2006-12-16 17:27:00\n",
       "4               3.666  235.680           15.800 2006-12-16 17:28:00"
      ]
     },
     "execution_count": 21,
     "metadata": {},
     "output_type": "execute_result"
    }
   ],
   "source": [
    "content.head()"
   ]
  },
  {
   "cell_type": "code",
   "execution_count": 22,
   "metadata": {},
   "outputs": [
    {
     "data": {
      "text/plain": [
       "Global_active_power            object\n",
       "Voltage                        object\n",
       "Global_intensity               object\n",
       "DATE_TIME              datetime64[ns]\n",
       "dtype: object"
      ]
     },
     "execution_count": 22,
     "metadata": {},
     "output_type": "execute_result"
    }
   ],
   "source": [
    "content.dtypes"
   ]
  },
  {
   "cell_type": "code",
   "execution_count": 23,
   "metadata": {},
   "outputs": [
    {
     "data": {
      "text/plain": [
       "False"
      ]
     },
     "execution_count": 23,
     "metadata": {},
     "output_type": "execute_result"
    }
   ],
   "source": [
    "content.isnull().values.any()"
   ]
  },
  {
   "cell_type": "code",
   "execution_count": 24,
   "metadata": {},
   "outputs": [],
   "source": [
    "content=content.dropna(axis=0)"
   ]
  },
  {
   "cell_type": "code",
   "execution_count": 25,
   "metadata": {},
   "outputs": [
    {
     "data": {
      "text/plain": [
       "False"
      ]
     },
     "execution_count": 25,
     "metadata": {},
     "output_type": "execute_result"
    }
   ],
   "source": [
    "content.isnull().values.any()"
   ]
  },
  {
   "cell_type": "code",
   "execution_count": 26,
   "metadata": {},
   "outputs": [
    {
     "data": {
      "text/plain": [
       "Global_active_power    0\n",
       "Voltage                0\n",
       "Global_intensity       0\n",
       "DATE_TIME              0\n",
       "dtype: int64"
      ]
     },
     "execution_count": 26,
     "metadata": {},
     "output_type": "execute_result"
    }
   ],
   "source": [
    "content.isnull().sum()"
   ]
  },
  {
   "cell_type": "code",
   "execution_count": 27,
   "metadata": {},
   "outputs": [
    {
     "data": {
      "text/plain": [
       "2075259"
      ]
     },
     "execution_count": 27,
     "metadata": {},
     "output_type": "execute_result"
    }
   ],
   "source": [
    "len(content)"
   ]
  },
  {
   "cell_type": "code",
   "execution_count": 28,
   "metadata": {},
   "outputs": [],
   "source": [
    "from sklearn.preprocessing import StandardScaler,MinMaxScaler\n",
    "from sklearn.ensemble import RandomForestRegressor\n",
    "from sklearn.metrics import r2_score,mean_squared_error"
   ]
  },
  {
   "cell_type": "code",
   "execution_count": 29,
   "metadata": {},
   "outputs": [],
   "source": [
    "content.Voltage = pd.to_numeric(content.Voltage,errors='coerce')"
   ]
  },
  {
   "cell_type": "code",
   "execution_count": 30,
   "metadata": {},
   "outputs": [
    {
     "data": {
      "text/plain": [
       "Global_active_power        0\n",
       "Voltage                25979\n",
       "Global_intensity           0\n",
       "DATE_TIME                  0\n",
       "dtype: int64"
      ]
     },
     "execution_count": 30,
     "metadata": {},
     "output_type": "execute_result"
    }
   ],
   "source": [
    "content.isnull().sum()"
   ]
  },
  {
   "cell_type": "code",
   "execution_count": 31,
   "metadata": {},
   "outputs": [],
   "source": [
    "content=content.dropna(axis=0)"
   ]
  },
  {
   "cell_type": "code",
   "execution_count": 32,
   "metadata": {},
   "outputs": [
    {
     "data": {
      "text/plain": [
       "2049280"
      ]
     },
     "execution_count": 32,
     "metadata": {},
     "output_type": "execute_result"
    }
   ],
   "source": [
    "len(content)"
   ]
  },
  {
   "cell_type": "code",
   "execution_count": 33,
   "metadata": {},
   "outputs": [],
   "source": [
    "content.Global_intensity = pd.to_numeric(content.Global_intensity,errors='coerce')"
   ]
  },
  {
   "cell_type": "code",
   "execution_count": 34,
   "metadata": {},
   "outputs": [
    {
     "data": {
      "text/plain": [
       "Global_active_power    0\n",
       "Voltage                0\n",
       "Global_intensity       0\n",
       "DATE_TIME              0\n",
       "dtype: int64"
      ]
     },
     "execution_count": 34,
     "metadata": {},
     "output_type": "execute_result"
    }
   ],
   "source": [
    "content.isnull().sum()"
   ]
  },
  {
   "cell_type": "code",
   "execution_count": 35,
   "metadata": {},
   "outputs": [],
   "source": [
    "content=content.dropna(axis=0)"
   ]
  },
  {
   "cell_type": "code",
   "execution_count": 36,
   "metadata": {},
   "outputs": [],
   "source": [
    "content.Global_active_power = pd.to_numeric(content.Global_active_power,errors='coerce')"
   ]
  },
  {
   "cell_type": "code",
   "execution_count": 37,
   "metadata": {},
   "outputs": [
    {
     "data": {
      "text/plain": [
       "Global_active_power    0\n",
       "Voltage                0\n",
       "Global_intensity       0\n",
       "DATE_TIME              0\n",
       "dtype: int64"
      ]
     },
     "execution_count": 37,
     "metadata": {},
     "output_type": "execute_result"
    }
   ],
   "source": [
    "content.isnull().sum()"
   ]
  },
  {
   "cell_type": "code",
   "execution_count": 38,
   "metadata": {},
   "outputs": [
    {
     "data": {
      "text/plain": [
       "Global_active_power           float64\n",
       "Voltage                       float64\n",
       "Global_intensity              float64\n",
       "DATE_TIME              datetime64[ns]\n",
       "dtype: object"
      ]
     },
     "execution_count": 38,
     "metadata": {},
     "output_type": "execute_result"
    }
   ],
   "source": [
    "content.dtypes"
   ]
  },
  {
   "cell_type": "code",
   "execution_count": 39,
   "metadata": {},
   "outputs": [
    {
     "data": {
      "text/html": [
       "<div>\n",
       "<style scoped>\n",
       "    .dataframe tbody tr th:only-of-type {\n",
       "        vertical-align: middle;\n",
       "    }\n",
       "\n",
       "    .dataframe tbody tr th {\n",
       "        vertical-align: top;\n",
       "    }\n",
       "\n",
       "    .dataframe thead th {\n",
       "        text-align: right;\n",
       "    }\n",
       "</style>\n",
       "<table border=\"1\" class=\"dataframe\">\n",
       "  <thead>\n",
       "    <tr style=\"text-align: right;\">\n",
       "      <th></th>\n",
       "      <th>Global_active_power</th>\n",
       "      <th>Voltage</th>\n",
       "      <th>Global_intensity</th>\n",
       "      <th>DATE_TIME</th>\n",
       "    </tr>\n",
       "  </thead>\n",
       "  <tbody>\n",
       "    <tr>\n",
       "      <th>0</th>\n",
       "      <td>4.216</td>\n",
       "      <td>234.84</td>\n",
       "      <td>18.4</td>\n",
       "      <td>2006-12-16 17:24:00</td>\n",
       "    </tr>\n",
       "    <tr>\n",
       "      <th>1</th>\n",
       "      <td>5.360</td>\n",
       "      <td>233.63</td>\n",
       "      <td>23.0</td>\n",
       "      <td>2006-12-16 17:25:00</td>\n",
       "    </tr>\n",
       "    <tr>\n",
       "      <th>2</th>\n",
       "      <td>5.374</td>\n",
       "      <td>233.29</td>\n",
       "      <td>23.0</td>\n",
       "      <td>2006-12-16 17:26:00</td>\n",
       "    </tr>\n",
       "    <tr>\n",
       "      <th>3</th>\n",
       "      <td>5.388</td>\n",
       "      <td>233.74</td>\n",
       "      <td>23.0</td>\n",
       "      <td>2006-12-16 17:27:00</td>\n",
       "    </tr>\n",
       "    <tr>\n",
       "      <th>4</th>\n",
       "      <td>3.666</td>\n",
       "      <td>235.68</td>\n",
       "      <td>15.8</td>\n",
       "      <td>2006-12-16 17:28:00</td>\n",
       "    </tr>\n",
       "  </tbody>\n",
       "</table>\n",
       "</div>"
      ],
      "text/plain": [
       "   Global_active_power  Voltage  Global_intensity           DATE_TIME\n",
       "0                4.216   234.84              18.4 2006-12-16 17:24:00\n",
       "1                5.360   233.63              23.0 2006-12-16 17:25:00\n",
       "2                5.374   233.29              23.0 2006-12-16 17:26:00\n",
       "3                5.388   233.74              23.0 2006-12-16 17:27:00\n",
       "4                3.666   235.68              15.8 2006-12-16 17:28:00"
      ]
     },
     "execution_count": 39,
     "metadata": {},
     "output_type": "execute_result"
    }
   ],
   "source": [
    "content.head()"
   ]
  },
  {
   "cell_type": "code",
   "execution_count": 40,
   "metadata": {},
   "outputs": [],
   "source": [
    "for obs in range(1,6):\n",
    "    content[\"T_\" + str(obs)] = content.Global_active_power.shift(obs)"
   ]
  },
  {
   "cell_type": "code",
   "execution_count": 41,
   "metadata": {},
   "outputs": [
    {
     "data": {
      "text/html": [
       "<div>\n",
       "<style scoped>\n",
       "    .dataframe tbody tr th:only-of-type {\n",
       "        vertical-align: middle;\n",
       "    }\n",
       "\n",
       "    .dataframe tbody tr th {\n",
       "        vertical-align: top;\n",
       "    }\n",
       "\n",
       "    .dataframe thead th {\n",
       "        text-align: right;\n",
       "    }\n",
       "</style>\n",
       "<table border=\"1\" class=\"dataframe\">\n",
       "  <thead>\n",
       "    <tr style=\"text-align: right;\">\n",
       "      <th></th>\n",
       "      <th>Global_active_power</th>\n",
       "      <th>Voltage</th>\n",
       "      <th>Global_intensity</th>\n",
       "      <th>DATE_TIME</th>\n",
       "      <th>T_1</th>\n",
       "      <th>T_2</th>\n",
       "      <th>T_3</th>\n",
       "      <th>T_4</th>\n",
       "      <th>T_5</th>\n",
       "    </tr>\n",
       "  </thead>\n",
       "  <tbody>\n",
       "    <tr>\n",
       "      <th>0</th>\n",
       "      <td>4.216</td>\n",
       "      <td>234.84</td>\n",
       "      <td>18.4</td>\n",
       "      <td>2006-12-16 17:24:00</td>\n",
       "      <td>NaN</td>\n",
       "      <td>NaN</td>\n",
       "      <td>NaN</td>\n",
       "      <td>NaN</td>\n",
       "      <td>NaN</td>\n",
       "    </tr>\n",
       "    <tr>\n",
       "      <th>1</th>\n",
       "      <td>5.360</td>\n",
       "      <td>233.63</td>\n",
       "      <td>23.0</td>\n",
       "      <td>2006-12-16 17:25:00</td>\n",
       "      <td>4.216</td>\n",
       "      <td>NaN</td>\n",
       "      <td>NaN</td>\n",
       "      <td>NaN</td>\n",
       "      <td>NaN</td>\n",
       "    </tr>\n",
       "    <tr>\n",
       "      <th>2</th>\n",
       "      <td>5.374</td>\n",
       "      <td>233.29</td>\n",
       "      <td>23.0</td>\n",
       "      <td>2006-12-16 17:26:00</td>\n",
       "      <td>5.360</td>\n",
       "      <td>4.216</td>\n",
       "      <td>NaN</td>\n",
       "      <td>NaN</td>\n",
       "      <td>NaN</td>\n",
       "    </tr>\n",
       "    <tr>\n",
       "      <th>3</th>\n",
       "      <td>5.388</td>\n",
       "      <td>233.74</td>\n",
       "      <td>23.0</td>\n",
       "      <td>2006-12-16 17:27:00</td>\n",
       "      <td>5.374</td>\n",
       "      <td>5.360</td>\n",
       "      <td>4.216</td>\n",
       "      <td>NaN</td>\n",
       "      <td>NaN</td>\n",
       "    </tr>\n",
       "    <tr>\n",
       "      <th>4</th>\n",
       "      <td>3.666</td>\n",
       "      <td>235.68</td>\n",
       "      <td>15.8</td>\n",
       "      <td>2006-12-16 17:28:00</td>\n",
       "      <td>5.388</td>\n",
       "      <td>5.374</td>\n",
       "      <td>5.360</td>\n",
       "      <td>4.216</td>\n",
       "      <td>NaN</td>\n",
       "    </tr>\n",
       "  </tbody>\n",
       "</table>\n",
       "</div>"
      ],
      "text/plain": [
       "   Global_active_power  Voltage  Global_intensity           DATE_TIME    T_1  \\\n",
       "0                4.216   234.84              18.4 2006-12-16 17:24:00    NaN   \n",
       "1                5.360   233.63              23.0 2006-12-16 17:25:00  4.216   \n",
       "2                5.374   233.29              23.0 2006-12-16 17:26:00  5.360   \n",
       "3                5.388   233.74              23.0 2006-12-16 17:27:00  5.374   \n",
       "4                3.666   235.68              15.8 2006-12-16 17:28:00  5.388   \n",
       "\n",
       "     T_2    T_3    T_4  T_5  \n",
       "0    NaN    NaN    NaN  NaN  \n",
       "1    NaN    NaN    NaN  NaN  \n",
       "2  4.216    NaN    NaN  NaN  \n",
       "3  5.360  4.216    NaN  NaN  \n",
       "4  5.374  5.360  4.216  NaN  "
      ]
     },
     "execution_count": 41,
     "metadata": {},
     "output_type": "execute_result"
    }
   ],
   "source": [
    "content.head()"
   ]
  },
  {
   "cell_type": "code",
   "execution_count": 42,
   "metadata": {},
   "outputs": [
    {
     "data": {
      "text/html": [
       "<div>\n",
       "<style scoped>\n",
       "    .dataframe tbody tr th:only-of-type {\n",
       "        vertical-align: middle;\n",
       "    }\n",
       "\n",
       "    .dataframe tbody tr th {\n",
       "        vertical-align: top;\n",
       "    }\n",
       "\n",
       "    .dataframe thead th {\n",
       "        text-align: right;\n",
       "    }\n",
       "</style>\n",
       "<table border=\"1\" class=\"dataframe\">\n",
       "  <thead>\n",
       "    <tr style=\"text-align: right;\">\n",
       "      <th></th>\n",
       "      <th>Global_active_power</th>\n",
       "      <th>Voltage</th>\n",
       "      <th>Global_intensity</th>\n",
       "      <th>DATE_TIME</th>\n",
       "      <th>T_1</th>\n",
       "      <th>T_2</th>\n",
       "      <th>T_3</th>\n",
       "      <th>T_4</th>\n",
       "      <th>T_5</th>\n",
       "    </tr>\n",
       "  </thead>\n",
       "  <tbody>\n",
       "    <tr>\n",
       "      <th>0</th>\n",
       "      <td>4.216</td>\n",
       "      <td>234.84</td>\n",
       "      <td>18.4</td>\n",
       "      <td>2006-12-16 17:24:00</td>\n",
       "      <td>0.000</td>\n",
       "      <td>0.000</td>\n",
       "      <td>0.000</td>\n",
       "      <td>0.000</td>\n",
       "      <td>0.000</td>\n",
       "    </tr>\n",
       "    <tr>\n",
       "      <th>1</th>\n",
       "      <td>5.360</td>\n",
       "      <td>233.63</td>\n",
       "      <td>23.0</td>\n",
       "      <td>2006-12-16 17:25:00</td>\n",
       "      <td>4.216</td>\n",
       "      <td>0.000</td>\n",
       "      <td>0.000</td>\n",
       "      <td>0.000</td>\n",
       "      <td>0.000</td>\n",
       "    </tr>\n",
       "    <tr>\n",
       "      <th>2</th>\n",
       "      <td>5.374</td>\n",
       "      <td>233.29</td>\n",
       "      <td>23.0</td>\n",
       "      <td>2006-12-16 17:26:00</td>\n",
       "      <td>5.360</td>\n",
       "      <td>4.216</td>\n",
       "      <td>0.000</td>\n",
       "      <td>0.000</td>\n",
       "      <td>0.000</td>\n",
       "    </tr>\n",
       "    <tr>\n",
       "      <th>3</th>\n",
       "      <td>5.388</td>\n",
       "      <td>233.74</td>\n",
       "      <td>23.0</td>\n",
       "      <td>2006-12-16 17:27:00</td>\n",
       "      <td>5.374</td>\n",
       "      <td>5.360</td>\n",
       "      <td>4.216</td>\n",
       "      <td>0.000</td>\n",
       "      <td>0.000</td>\n",
       "    </tr>\n",
       "    <tr>\n",
       "      <th>4</th>\n",
       "      <td>3.666</td>\n",
       "      <td>235.68</td>\n",
       "      <td>15.8</td>\n",
       "      <td>2006-12-16 17:28:00</td>\n",
       "      <td>5.388</td>\n",
       "      <td>5.374</td>\n",
       "      <td>5.360</td>\n",
       "      <td>4.216</td>\n",
       "      <td>0.000</td>\n",
       "    </tr>\n",
       "    <tr>\n",
       "      <th>5</th>\n",
       "      <td>3.520</td>\n",
       "      <td>235.02</td>\n",
       "      <td>15.0</td>\n",
       "      <td>2006-12-16 17:29:00</td>\n",
       "      <td>3.666</td>\n",
       "      <td>5.388</td>\n",
       "      <td>5.374</td>\n",
       "      <td>5.360</td>\n",
       "      <td>4.216</td>\n",
       "    </tr>\n",
       "    <tr>\n",
       "      <th>6</th>\n",
       "      <td>3.702</td>\n",
       "      <td>235.09</td>\n",
       "      <td>15.8</td>\n",
       "      <td>2006-12-16 17:30:00</td>\n",
       "      <td>3.520</td>\n",
       "      <td>3.666</td>\n",
       "      <td>5.388</td>\n",
       "      <td>5.374</td>\n",
       "      <td>5.360</td>\n",
       "    </tr>\n",
       "    <tr>\n",
       "      <th>7</th>\n",
       "      <td>3.700</td>\n",
       "      <td>235.22</td>\n",
       "      <td>15.8</td>\n",
       "      <td>2006-12-16 17:31:00</td>\n",
       "      <td>3.702</td>\n",
       "      <td>3.520</td>\n",
       "      <td>3.666</td>\n",
       "      <td>5.388</td>\n",
       "      <td>5.374</td>\n",
       "    </tr>\n",
       "    <tr>\n",
       "      <th>8</th>\n",
       "      <td>3.668</td>\n",
       "      <td>233.99</td>\n",
       "      <td>15.8</td>\n",
       "      <td>2006-12-16 17:32:00</td>\n",
       "      <td>3.700</td>\n",
       "      <td>3.702</td>\n",
       "      <td>3.520</td>\n",
       "      <td>3.666</td>\n",
       "      <td>5.388</td>\n",
       "    </tr>\n",
       "    <tr>\n",
       "      <th>9</th>\n",
       "      <td>3.662</td>\n",
       "      <td>233.86</td>\n",
       "      <td>15.8</td>\n",
       "      <td>2006-12-16 17:33:00</td>\n",
       "      <td>3.668</td>\n",
       "      <td>3.700</td>\n",
       "      <td>3.702</td>\n",
       "      <td>3.520</td>\n",
       "      <td>3.666</td>\n",
       "    </tr>\n",
       "  </tbody>\n",
       "</table>\n",
       "</div>"
      ],
      "text/plain": [
       "   Global_active_power  Voltage  Global_intensity           DATE_TIME    T_1  \\\n",
       "0                4.216   234.84              18.4 2006-12-16 17:24:00  0.000   \n",
       "1                5.360   233.63              23.0 2006-12-16 17:25:00  4.216   \n",
       "2                5.374   233.29              23.0 2006-12-16 17:26:00  5.360   \n",
       "3                5.388   233.74              23.0 2006-12-16 17:27:00  5.374   \n",
       "4                3.666   235.68              15.8 2006-12-16 17:28:00  5.388   \n",
       "5                3.520   235.02              15.0 2006-12-16 17:29:00  3.666   \n",
       "6                3.702   235.09              15.8 2006-12-16 17:30:00  3.520   \n",
       "7                3.700   235.22              15.8 2006-12-16 17:31:00  3.702   \n",
       "8                3.668   233.99              15.8 2006-12-16 17:32:00  3.700   \n",
       "9                3.662   233.86              15.8 2006-12-16 17:33:00  3.668   \n",
       "\n",
       "     T_2    T_3    T_4    T_5  \n",
       "0  0.000  0.000  0.000  0.000  \n",
       "1  0.000  0.000  0.000  0.000  \n",
       "2  4.216  0.000  0.000  0.000  \n",
       "3  5.360  4.216  0.000  0.000  \n",
       "4  5.374  5.360  4.216  0.000  \n",
       "5  5.388  5.374  5.360  4.216  \n",
       "6  3.666  5.388  5.374  5.360  \n",
       "7  3.520  3.666  5.388  5.374  \n",
       "8  3.702  3.520  3.666  5.388  \n",
       "9  3.700  3.702  3.520  3.666  "
      ]
     },
     "execution_count": 42,
     "metadata": {},
     "output_type": "execute_result"
    }
   ],
   "source": [
    "content.fillna(0.00,inplace=True)\n",
    "content.head(10)"
   ]
  },
  {
   "cell_type": "code",
   "execution_count": 43,
   "metadata": {},
   "outputs": [],
   "source": [
    "# content[\"V_\" + str(1)] = content.Voltage.shift(1)"
   ]
  },
  {
   "cell_type": "code",
   "execution_count": 44,
   "metadata": {},
   "outputs": [],
   "source": [
    "# content[\"Global_intensity\" + str(1)] = content.Global_intensity.shift(1)"
   ]
  },
  {
   "cell_type": "code",
   "execution_count": 45,
   "metadata": {},
   "outputs": [
    {
     "data": {
      "text/html": [
       "<div>\n",
       "<style scoped>\n",
       "    .dataframe tbody tr th:only-of-type {\n",
       "        vertical-align: middle;\n",
       "    }\n",
       "\n",
       "    .dataframe tbody tr th {\n",
       "        vertical-align: top;\n",
       "    }\n",
       "\n",
       "    .dataframe thead th {\n",
       "        text-align: right;\n",
       "    }\n",
       "</style>\n",
       "<table border=\"1\" class=\"dataframe\">\n",
       "  <thead>\n",
       "    <tr style=\"text-align: right;\">\n",
       "      <th></th>\n",
       "      <th>Global_active_power</th>\n",
       "      <th>Voltage</th>\n",
       "      <th>Global_intensity</th>\n",
       "      <th>DATE_TIME</th>\n",
       "      <th>T_1</th>\n",
       "      <th>T_2</th>\n",
       "      <th>T_3</th>\n",
       "      <th>T_4</th>\n",
       "      <th>T_5</th>\n",
       "    </tr>\n",
       "  </thead>\n",
       "  <tbody>\n",
       "    <tr>\n",
       "      <th>0</th>\n",
       "      <td>4.216</td>\n",
       "      <td>234.84</td>\n",
       "      <td>18.4</td>\n",
       "      <td>2006-12-16 17:24:00</td>\n",
       "      <td>0.000</td>\n",
       "      <td>0.000</td>\n",
       "      <td>0.000</td>\n",
       "      <td>0.000</td>\n",
       "      <td>0.000</td>\n",
       "    </tr>\n",
       "    <tr>\n",
       "      <th>1</th>\n",
       "      <td>5.360</td>\n",
       "      <td>233.63</td>\n",
       "      <td>23.0</td>\n",
       "      <td>2006-12-16 17:25:00</td>\n",
       "      <td>4.216</td>\n",
       "      <td>0.000</td>\n",
       "      <td>0.000</td>\n",
       "      <td>0.000</td>\n",
       "      <td>0.000</td>\n",
       "    </tr>\n",
       "    <tr>\n",
       "      <th>2</th>\n",
       "      <td>5.374</td>\n",
       "      <td>233.29</td>\n",
       "      <td>23.0</td>\n",
       "      <td>2006-12-16 17:26:00</td>\n",
       "      <td>5.360</td>\n",
       "      <td>4.216</td>\n",
       "      <td>0.000</td>\n",
       "      <td>0.000</td>\n",
       "      <td>0.000</td>\n",
       "    </tr>\n",
       "    <tr>\n",
       "      <th>3</th>\n",
       "      <td>5.388</td>\n",
       "      <td>233.74</td>\n",
       "      <td>23.0</td>\n",
       "      <td>2006-12-16 17:27:00</td>\n",
       "      <td>5.374</td>\n",
       "      <td>5.360</td>\n",
       "      <td>4.216</td>\n",
       "      <td>0.000</td>\n",
       "      <td>0.000</td>\n",
       "    </tr>\n",
       "    <tr>\n",
       "      <th>4</th>\n",
       "      <td>3.666</td>\n",
       "      <td>235.68</td>\n",
       "      <td>15.8</td>\n",
       "      <td>2006-12-16 17:28:00</td>\n",
       "      <td>5.388</td>\n",
       "      <td>5.374</td>\n",
       "      <td>5.360</td>\n",
       "      <td>4.216</td>\n",
       "      <td>0.000</td>\n",
       "    </tr>\n",
       "    <tr>\n",
       "      <th>5</th>\n",
       "      <td>3.520</td>\n",
       "      <td>235.02</td>\n",
       "      <td>15.0</td>\n",
       "      <td>2006-12-16 17:29:00</td>\n",
       "      <td>3.666</td>\n",
       "      <td>5.388</td>\n",
       "      <td>5.374</td>\n",
       "      <td>5.360</td>\n",
       "      <td>4.216</td>\n",
       "    </tr>\n",
       "    <tr>\n",
       "      <th>6</th>\n",
       "      <td>3.702</td>\n",
       "      <td>235.09</td>\n",
       "      <td>15.8</td>\n",
       "      <td>2006-12-16 17:30:00</td>\n",
       "      <td>3.520</td>\n",
       "      <td>3.666</td>\n",
       "      <td>5.388</td>\n",
       "      <td>5.374</td>\n",
       "      <td>5.360</td>\n",
       "    </tr>\n",
       "    <tr>\n",
       "      <th>7</th>\n",
       "      <td>3.700</td>\n",
       "      <td>235.22</td>\n",
       "      <td>15.8</td>\n",
       "      <td>2006-12-16 17:31:00</td>\n",
       "      <td>3.702</td>\n",
       "      <td>3.520</td>\n",
       "      <td>3.666</td>\n",
       "      <td>5.388</td>\n",
       "      <td>5.374</td>\n",
       "    </tr>\n",
       "    <tr>\n",
       "      <th>8</th>\n",
       "      <td>3.668</td>\n",
       "      <td>233.99</td>\n",
       "      <td>15.8</td>\n",
       "      <td>2006-12-16 17:32:00</td>\n",
       "      <td>3.700</td>\n",
       "      <td>3.702</td>\n",
       "      <td>3.520</td>\n",
       "      <td>3.666</td>\n",
       "      <td>5.388</td>\n",
       "    </tr>\n",
       "    <tr>\n",
       "      <th>9</th>\n",
       "      <td>3.662</td>\n",
       "      <td>233.86</td>\n",
       "      <td>15.8</td>\n",
       "      <td>2006-12-16 17:33:00</td>\n",
       "      <td>3.668</td>\n",
       "      <td>3.700</td>\n",
       "      <td>3.702</td>\n",
       "      <td>3.520</td>\n",
       "      <td>3.666</td>\n",
       "    </tr>\n",
       "  </tbody>\n",
       "</table>\n",
       "</div>"
      ],
      "text/plain": [
       "   Global_active_power  Voltage  Global_intensity           DATE_TIME    T_1  \\\n",
       "0                4.216   234.84              18.4 2006-12-16 17:24:00  0.000   \n",
       "1                5.360   233.63              23.0 2006-12-16 17:25:00  4.216   \n",
       "2                5.374   233.29              23.0 2006-12-16 17:26:00  5.360   \n",
       "3                5.388   233.74              23.0 2006-12-16 17:27:00  5.374   \n",
       "4                3.666   235.68              15.8 2006-12-16 17:28:00  5.388   \n",
       "5                3.520   235.02              15.0 2006-12-16 17:29:00  3.666   \n",
       "6                3.702   235.09              15.8 2006-12-16 17:30:00  3.520   \n",
       "7                3.700   235.22              15.8 2006-12-16 17:31:00  3.702   \n",
       "8                3.668   233.99              15.8 2006-12-16 17:32:00  3.700   \n",
       "9                3.662   233.86              15.8 2006-12-16 17:33:00  3.668   \n",
       "\n",
       "     T_2    T_3    T_4    T_5  \n",
       "0  0.000  0.000  0.000  0.000  \n",
       "1  0.000  0.000  0.000  0.000  \n",
       "2  4.216  0.000  0.000  0.000  \n",
       "3  5.360  4.216  0.000  0.000  \n",
       "4  5.374  5.360  4.216  0.000  \n",
       "5  5.388  5.374  5.360  4.216  \n",
       "6  3.666  5.388  5.374  5.360  \n",
       "7  3.520  3.666  5.388  5.374  \n",
       "8  3.702  3.520  3.666  5.388  \n",
       "9  3.700  3.702  3.520  3.666  "
      ]
     },
     "execution_count": 45,
     "metadata": {},
     "output_type": "execute_result"
    }
   ],
   "source": [
    "content.head(10)"
   ]
  },
  {
   "cell_type": "code",
   "execution_count": 46,
   "metadata": {},
   "outputs": [
    {
     "data": {
      "text/html": [
       "<div>\n",
       "<style scoped>\n",
       "    .dataframe tbody tr th:only-of-type {\n",
       "        vertical-align: middle;\n",
       "    }\n",
       "\n",
       "    .dataframe tbody tr th {\n",
       "        vertical-align: top;\n",
       "    }\n",
       "\n",
       "    .dataframe thead th {\n",
       "        text-align: right;\n",
       "    }\n",
       "</style>\n",
       "<table border=\"1\" class=\"dataframe\">\n",
       "  <thead>\n",
       "    <tr style=\"text-align: right;\">\n",
       "      <th></th>\n",
       "      <th>Global_active_power</th>\n",
       "      <th>Voltage</th>\n",
       "      <th>Global_intensity</th>\n",
       "      <th>DATE_TIME</th>\n",
       "      <th>T_1</th>\n",
       "      <th>T_2</th>\n",
       "      <th>T_3</th>\n",
       "      <th>T_4</th>\n",
       "      <th>T_5</th>\n",
       "    </tr>\n",
       "  </thead>\n",
       "  <tbody>\n",
       "    <tr>\n",
       "      <th>0</th>\n",
       "      <td>4.216</td>\n",
       "      <td>234.84</td>\n",
       "      <td>18.4</td>\n",
       "      <td>2006-12-16 17:24:00</td>\n",
       "      <td>0.000</td>\n",
       "      <td>0.000</td>\n",
       "      <td>0.000</td>\n",
       "      <td>0.000</td>\n",
       "      <td>0.000</td>\n",
       "    </tr>\n",
       "    <tr>\n",
       "      <th>1</th>\n",
       "      <td>5.360</td>\n",
       "      <td>233.63</td>\n",
       "      <td>23.0</td>\n",
       "      <td>2006-12-16 17:25:00</td>\n",
       "      <td>4.216</td>\n",
       "      <td>0.000</td>\n",
       "      <td>0.000</td>\n",
       "      <td>0.000</td>\n",
       "      <td>0.000</td>\n",
       "    </tr>\n",
       "    <tr>\n",
       "      <th>2</th>\n",
       "      <td>5.374</td>\n",
       "      <td>233.29</td>\n",
       "      <td>23.0</td>\n",
       "      <td>2006-12-16 17:26:00</td>\n",
       "      <td>5.360</td>\n",
       "      <td>4.216</td>\n",
       "      <td>0.000</td>\n",
       "      <td>0.000</td>\n",
       "      <td>0.000</td>\n",
       "    </tr>\n",
       "    <tr>\n",
       "      <th>3</th>\n",
       "      <td>5.388</td>\n",
       "      <td>233.74</td>\n",
       "      <td>23.0</td>\n",
       "      <td>2006-12-16 17:27:00</td>\n",
       "      <td>5.374</td>\n",
       "      <td>5.360</td>\n",
       "      <td>4.216</td>\n",
       "      <td>0.000</td>\n",
       "      <td>0.000</td>\n",
       "    </tr>\n",
       "    <tr>\n",
       "      <th>4</th>\n",
       "      <td>3.666</td>\n",
       "      <td>235.68</td>\n",
       "      <td>15.8</td>\n",
       "      <td>2006-12-16 17:28:00</td>\n",
       "      <td>5.388</td>\n",
       "      <td>5.374</td>\n",
       "      <td>5.360</td>\n",
       "      <td>4.216</td>\n",
       "      <td>0.000</td>\n",
       "    </tr>\n",
       "    <tr>\n",
       "      <th>5</th>\n",
       "      <td>3.520</td>\n",
       "      <td>235.02</td>\n",
       "      <td>15.0</td>\n",
       "      <td>2006-12-16 17:29:00</td>\n",
       "      <td>3.666</td>\n",
       "      <td>5.388</td>\n",
       "      <td>5.374</td>\n",
       "      <td>5.360</td>\n",
       "      <td>4.216</td>\n",
       "    </tr>\n",
       "    <tr>\n",
       "      <th>6</th>\n",
       "      <td>3.702</td>\n",
       "      <td>235.09</td>\n",
       "      <td>15.8</td>\n",
       "      <td>2006-12-16 17:30:00</td>\n",
       "      <td>3.520</td>\n",
       "      <td>3.666</td>\n",
       "      <td>5.388</td>\n",
       "      <td>5.374</td>\n",
       "      <td>5.360</td>\n",
       "    </tr>\n",
       "    <tr>\n",
       "      <th>7</th>\n",
       "      <td>3.700</td>\n",
       "      <td>235.22</td>\n",
       "      <td>15.8</td>\n",
       "      <td>2006-12-16 17:31:00</td>\n",
       "      <td>3.702</td>\n",
       "      <td>3.520</td>\n",
       "      <td>3.666</td>\n",
       "      <td>5.388</td>\n",
       "      <td>5.374</td>\n",
       "    </tr>\n",
       "    <tr>\n",
       "      <th>8</th>\n",
       "      <td>3.668</td>\n",
       "      <td>233.99</td>\n",
       "      <td>15.8</td>\n",
       "      <td>2006-12-16 17:32:00</td>\n",
       "      <td>3.700</td>\n",
       "      <td>3.702</td>\n",
       "      <td>3.520</td>\n",
       "      <td>3.666</td>\n",
       "      <td>5.388</td>\n",
       "    </tr>\n",
       "    <tr>\n",
       "      <th>9</th>\n",
       "      <td>3.662</td>\n",
       "      <td>233.86</td>\n",
       "      <td>15.8</td>\n",
       "      <td>2006-12-16 17:33:00</td>\n",
       "      <td>3.668</td>\n",
       "      <td>3.700</td>\n",
       "      <td>3.702</td>\n",
       "      <td>3.520</td>\n",
       "      <td>3.666</td>\n",
       "    </tr>\n",
       "  </tbody>\n",
       "</table>\n",
       "</div>"
      ],
      "text/plain": [
       "   Global_active_power  Voltage  Global_intensity           DATE_TIME    T_1  \\\n",
       "0                4.216   234.84              18.4 2006-12-16 17:24:00  0.000   \n",
       "1                5.360   233.63              23.0 2006-12-16 17:25:00  4.216   \n",
       "2                5.374   233.29              23.0 2006-12-16 17:26:00  5.360   \n",
       "3                5.388   233.74              23.0 2006-12-16 17:27:00  5.374   \n",
       "4                3.666   235.68              15.8 2006-12-16 17:28:00  5.388   \n",
       "5                3.520   235.02              15.0 2006-12-16 17:29:00  3.666   \n",
       "6                3.702   235.09              15.8 2006-12-16 17:30:00  3.520   \n",
       "7                3.700   235.22              15.8 2006-12-16 17:31:00  3.702   \n",
       "8                3.668   233.99              15.8 2006-12-16 17:32:00  3.700   \n",
       "9                3.662   233.86              15.8 2006-12-16 17:33:00  3.668   \n",
       "\n",
       "     T_2    T_3    T_4    T_5  \n",
       "0  0.000  0.000  0.000  0.000  \n",
       "1  0.000  0.000  0.000  0.000  \n",
       "2  4.216  0.000  0.000  0.000  \n",
       "3  5.360  4.216  0.000  0.000  \n",
       "4  5.374  5.360  4.216  0.000  \n",
       "5  5.388  5.374  5.360  4.216  \n",
       "6  3.666  5.388  5.374  5.360  \n",
       "7  3.520  3.666  5.388  5.374  \n",
       "8  3.702  3.520  3.666  5.388  \n",
       "9  3.700  3.702  3.520  3.666  "
      ]
     },
     "execution_count": 46,
     "metadata": {},
     "output_type": "execute_result"
    }
   ],
   "source": [
    "content.fillna(0.00,inplace=True)\n",
    "content.head(10)"
   ]
  },
  {
   "cell_type": "code",
   "execution_count": 47,
   "metadata": {},
   "outputs": [],
   "source": [
    "# content = content.drop(['Voltage','Global_intensity'], axis=1)"
   ]
  },
  {
   "cell_type": "code",
   "execution_count": 48,
   "metadata": {},
   "outputs": [
    {
     "name": "stdout",
     "output_type": "stream",
     "text": [
      "2049280\n",
      "Global_active_power           float64\n",
      "Voltage                       float64\n",
      "Global_intensity              float64\n",
      "DATE_TIME              datetime64[ns]\n",
      "T_1                           float64\n",
      "T_2                           float64\n",
      "T_3                           float64\n",
      "T_4                           float64\n",
      "T_5                           float64\n",
      "dtype: object\n",
      "       Global_active_power       Voltage  Global_intensity           T_1  \\\n",
      "count         2.049280e+06  2.049280e+06      2.049280e+06  2.049280e+06   \n",
      "mean          1.091615e+00  2.408399e+02      4.627759e+00  1.091615e+00   \n",
      "std           1.057294e+00  3.239987e+00      4.444396e+00  1.057294e+00   \n",
      "min           7.600000e-02  2.232000e+02      2.000000e-01  0.000000e+00   \n",
      "25%           3.080000e-01  2.389900e+02      1.400000e+00  3.080000e-01   \n",
      "50%           6.020000e-01  2.410100e+02      2.600000e+00  6.020000e-01   \n",
      "75%           1.528000e+00  2.428900e+02      6.400000e+00  1.528000e+00   \n",
      "max           1.112200e+01  2.541500e+02      4.840000e+01  1.112200e+01   \n",
      "\n",
      "                T_2           T_3           T_4           T_5  \n",
      "count  2.049280e+06  2.049280e+06  2.049280e+06  2.049280e+06  \n",
      "mean   1.091614e+00  1.091614e+00  1.091613e+00  1.091613e+00  \n",
      "std    1.057295e+00  1.057295e+00  1.057295e+00  1.057296e+00  \n",
      "min    0.000000e+00  0.000000e+00  0.000000e+00  0.000000e+00  \n",
      "25%    3.080000e-01  3.080000e-01  3.080000e-01  3.080000e-01  \n",
      "50%    6.020000e-01  6.020000e-01  6.020000e-01  6.020000e-01  \n",
      "75%    1.528000e+00  1.528000e+00  1.528000e+00  1.528000e+00  \n",
      "max    1.112200e+01  1.112200e+01  1.112200e+01  1.112200e+01  \n"
     ]
    }
   ],
   "source": [
    "print(len(content))\n",
    "print(content.dtypes)\n",
    "print(content.describe())"
   ]
  },
  {
   "cell_type": "code",
   "execution_count": 49,
   "metadata": {},
   "outputs": [
    {
     "data": {
      "text/plain": [
       "Index(['Global_active_power', 'Voltage', 'Global_intensity', 'DATE_TIME',\n",
       "       'T_1', 'T_2', 'T_3', 'T_4', 'T_5'],\n",
       "      dtype='object')"
      ]
     },
     "execution_count": 49,
     "metadata": {},
     "output_type": "execute_result"
    }
   ],
   "source": [
    "content.columns"
   ]
  },
  {
   "cell_type": "code",
   "execution_count": 50,
   "metadata": {},
   "outputs": [
    {
     "data": {
      "text/html": [
       "<div>\n",
       "<style scoped>\n",
       "    .dataframe tbody tr th:only-of-type {\n",
       "        vertical-align: middle;\n",
       "    }\n",
       "\n",
       "    .dataframe tbody tr th {\n",
       "        vertical-align: top;\n",
       "    }\n",
       "\n",
       "    .dataframe thead th {\n",
       "        text-align: right;\n",
       "    }\n",
       "</style>\n",
       "<table border=\"1\" class=\"dataframe\">\n",
       "  <thead>\n",
       "    <tr style=\"text-align: right;\">\n",
       "      <th></th>\n",
       "      <th>Global_active_power</th>\n",
       "      <th>Voltage</th>\n",
       "      <th>Global_intensity</th>\n",
       "      <th>DATE_TIME</th>\n",
       "      <th>T_1</th>\n",
       "      <th>T_2</th>\n",
       "      <th>T_3</th>\n",
       "      <th>T_4</th>\n",
       "      <th>T_5</th>\n",
       "    </tr>\n",
       "  </thead>\n",
       "  <tbody>\n",
       "    <tr>\n",
       "      <th>0</th>\n",
       "      <td>4.216</td>\n",
       "      <td>234.84</td>\n",
       "      <td>18.4</td>\n",
       "      <td>2006-12-16 17:24:00</td>\n",
       "      <td>0.000</td>\n",
       "      <td>0.000</td>\n",
       "      <td>0.000</td>\n",
       "      <td>0.000</td>\n",
       "      <td>0.0</td>\n",
       "    </tr>\n",
       "    <tr>\n",
       "      <th>1</th>\n",
       "      <td>5.360</td>\n",
       "      <td>233.63</td>\n",
       "      <td>23.0</td>\n",
       "      <td>2006-12-16 17:25:00</td>\n",
       "      <td>4.216</td>\n",
       "      <td>0.000</td>\n",
       "      <td>0.000</td>\n",
       "      <td>0.000</td>\n",
       "      <td>0.0</td>\n",
       "    </tr>\n",
       "    <tr>\n",
       "      <th>2</th>\n",
       "      <td>5.374</td>\n",
       "      <td>233.29</td>\n",
       "      <td>23.0</td>\n",
       "      <td>2006-12-16 17:26:00</td>\n",
       "      <td>5.360</td>\n",
       "      <td>4.216</td>\n",
       "      <td>0.000</td>\n",
       "      <td>0.000</td>\n",
       "      <td>0.0</td>\n",
       "    </tr>\n",
       "    <tr>\n",
       "      <th>3</th>\n",
       "      <td>5.388</td>\n",
       "      <td>233.74</td>\n",
       "      <td>23.0</td>\n",
       "      <td>2006-12-16 17:27:00</td>\n",
       "      <td>5.374</td>\n",
       "      <td>5.360</td>\n",
       "      <td>4.216</td>\n",
       "      <td>0.000</td>\n",
       "      <td>0.0</td>\n",
       "    </tr>\n",
       "    <tr>\n",
       "      <th>4</th>\n",
       "      <td>3.666</td>\n",
       "      <td>235.68</td>\n",
       "      <td>15.8</td>\n",
       "      <td>2006-12-16 17:28:00</td>\n",
       "      <td>5.388</td>\n",
       "      <td>5.374</td>\n",
       "      <td>5.360</td>\n",
       "      <td>4.216</td>\n",
       "      <td>0.0</td>\n",
       "    </tr>\n",
       "  </tbody>\n",
       "</table>\n",
       "</div>"
      ],
      "text/plain": [
       "   Global_active_power  Voltage  Global_intensity           DATE_TIME    T_1  \\\n",
       "0                4.216   234.84              18.4 2006-12-16 17:24:00  0.000   \n",
       "1                5.360   233.63              23.0 2006-12-16 17:25:00  4.216   \n",
       "2                5.374   233.29              23.0 2006-12-16 17:26:00  5.360   \n",
       "3                5.388   233.74              23.0 2006-12-16 17:27:00  5.374   \n",
       "4                3.666   235.68              15.8 2006-12-16 17:28:00  5.388   \n",
       "\n",
       "     T_2    T_3    T_4  T_5  \n",
       "0  0.000  0.000  0.000  0.0  \n",
       "1  0.000  0.000  0.000  0.0  \n",
       "2  4.216  0.000  0.000  0.0  \n",
       "3  5.360  4.216  0.000  0.0  \n",
       "4  5.374  5.360  4.216  0.0  "
      ]
     },
     "execution_count": 50,
     "metadata": {},
     "output_type": "execute_result"
    }
   ],
   "source": [
    "content.head()"
   ]
  },
  {
   "cell_type": "code",
   "execution_count": 51,
   "metadata": {},
   "outputs": [
    {
     "data": {
      "text/html": [
       "<div>\n",
       "<style scoped>\n",
       "    .dataframe tbody tr th:only-of-type {\n",
       "        vertical-align: middle;\n",
       "    }\n",
       "\n",
       "    .dataframe tbody tr th {\n",
       "        vertical-align: top;\n",
       "    }\n",
       "\n",
       "    .dataframe thead th {\n",
       "        text-align: right;\n",
       "    }\n",
       "</style>\n",
       "<table border=\"1\" class=\"dataframe\">\n",
       "  <thead>\n",
       "    <tr style=\"text-align: right;\">\n",
       "      <th></th>\n",
       "      <th>Global_active_power</th>\n",
       "      <th>Voltage</th>\n",
       "      <th>Global_intensity</th>\n",
       "      <th>DATE_TIME</th>\n",
       "      <th>T_1</th>\n",
       "      <th>T_2</th>\n",
       "      <th>T_3</th>\n",
       "      <th>T_4</th>\n",
       "      <th>T_5</th>\n",
       "    </tr>\n",
       "  </thead>\n",
       "  <tbody>\n",
       "    <tr>\n",
       "      <th>2075254</th>\n",
       "      <td>0.946</td>\n",
       "      <td>240.43</td>\n",
       "      <td>4.0</td>\n",
       "      <td>2010-11-26 20:58:00</td>\n",
       "      <td>0.946</td>\n",
       "      <td>0.942</td>\n",
       "      <td>0.946</td>\n",
       "      <td>0.946</td>\n",
       "      <td>0.944</td>\n",
       "    </tr>\n",
       "    <tr>\n",
       "      <th>2075255</th>\n",
       "      <td>0.944</td>\n",
       "      <td>240.00</td>\n",
       "      <td>4.0</td>\n",
       "      <td>2010-11-26 20:59:00</td>\n",
       "      <td>0.946</td>\n",
       "      <td>0.946</td>\n",
       "      <td>0.942</td>\n",
       "      <td>0.946</td>\n",
       "      <td>0.946</td>\n",
       "    </tr>\n",
       "    <tr>\n",
       "      <th>2075256</th>\n",
       "      <td>0.938</td>\n",
       "      <td>239.82</td>\n",
       "      <td>3.8</td>\n",
       "      <td>2010-11-26 21:00:00</td>\n",
       "      <td>0.944</td>\n",
       "      <td>0.946</td>\n",
       "      <td>0.946</td>\n",
       "      <td>0.942</td>\n",
       "      <td>0.946</td>\n",
       "    </tr>\n",
       "    <tr>\n",
       "      <th>2075257</th>\n",
       "      <td>0.934</td>\n",
       "      <td>239.70</td>\n",
       "      <td>3.8</td>\n",
       "      <td>2010-11-26 21:01:00</td>\n",
       "      <td>0.938</td>\n",
       "      <td>0.944</td>\n",
       "      <td>0.946</td>\n",
       "      <td>0.946</td>\n",
       "      <td>0.942</td>\n",
       "    </tr>\n",
       "    <tr>\n",
       "      <th>2075258</th>\n",
       "      <td>0.932</td>\n",
       "      <td>239.55</td>\n",
       "      <td>3.8</td>\n",
       "      <td>2010-11-26 21:02:00</td>\n",
       "      <td>0.934</td>\n",
       "      <td>0.938</td>\n",
       "      <td>0.944</td>\n",
       "      <td>0.946</td>\n",
       "      <td>0.946</td>\n",
       "    </tr>\n",
       "  </tbody>\n",
       "</table>\n",
       "</div>"
      ],
      "text/plain": [
       "         Global_active_power  Voltage  Global_intensity           DATE_TIME  \\\n",
       "2075254                0.946   240.43               4.0 2010-11-26 20:58:00   \n",
       "2075255                0.944   240.00               4.0 2010-11-26 20:59:00   \n",
       "2075256                0.938   239.82               3.8 2010-11-26 21:00:00   \n",
       "2075257                0.934   239.70               3.8 2010-11-26 21:01:00   \n",
       "2075258                0.932   239.55               3.8 2010-11-26 21:02:00   \n",
       "\n",
       "           T_1    T_2    T_3    T_4    T_5  \n",
       "2075254  0.946  0.942  0.946  0.946  0.944  \n",
       "2075255  0.946  0.946  0.942  0.946  0.946  \n",
       "2075256  0.944  0.946  0.946  0.942  0.946  \n",
       "2075257  0.938  0.944  0.946  0.946  0.942  \n",
       "2075258  0.934  0.938  0.944  0.946  0.946  "
      ]
     },
     "execution_count": 51,
     "metadata": {},
     "output_type": "execute_result"
    }
   ],
   "source": [
    "content.tail()"
   ]
  },
  {
   "cell_type": "code",
   "execution_count": 52,
   "metadata": {},
   "outputs": [],
   "source": [
    "cal = calendar()\n",
    "holidays = cal.holidays(start = content.DATE_TIME.min(), end = content.DATE_TIME.max())\n",
    "content[\"IS_HOLIDAY\"] = content.DATE_TIME.isin(holidays)"
   ]
  },
  {
   "cell_type": "code",
   "execution_count": 53,
   "metadata": {},
   "outputs": [
    {
     "data": {
      "text/html": [
       "<div>\n",
       "<style scoped>\n",
       "    .dataframe tbody tr th:only-of-type {\n",
       "        vertical-align: middle;\n",
       "    }\n",
       "\n",
       "    .dataframe tbody tr th {\n",
       "        vertical-align: top;\n",
       "    }\n",
       "\n",
       "    .dataframe thead th {\n",
       "        text-align: right;\n",
       "    }\n",
       "</style>\n",
       "<table border=\"1\" class=\"dataframe\">\n",
       "  <thead>\n",
       "    <tr style=\"text-align: right;\">\n",
       "      <th></th>\n",
       "      <th>Global_active_power</th>\n",
       "      <th>Voltage</th>\n",
       "      <th>Global_intensity</th>\n",
       "      <th>DATE_TIME</th>\n",
       "      <th>T_1</th>\n",
       "      <th>T_2</th>\n",
       "      <th>T_3</th>\n",
       "      <th>T_4</th>\n",
       "      <th>T_5</th>\n",
       "      <th>IS_HOLIDAY</th>\n",
       "    </tr>\n",
       "  </thead>\n",
       "  <tbody>\n",
       "    <tr>\n",
       "      <th>0</th>\n",
       "      <td>4.216</td>\n",
       "      <td>234.84</td>\n",
       "      <td>18.4</td>\n",
       "      <td>2006-12-16 17:24:00</td>\n",
       "      <td>0.000</td>\n",
       "      <td>0.000</td>\n",
       "      <td>0.000</td>\n",
       "      <td>0.000</td>\n",
       "      <td>0.0</td>\n",
       "      <td>False</td>\n",
       "    </tr>\n",
       "    <tr>\n",
       "      <th>1</th>\n",
       "      <td>5.360</td>\n",
       "      <td>233.63</td>\n",
       "      <td>23.0</td>\n",
       "      <td>2006-12-16 17:25:00</td>\n",
       "      <td>4.216</td>\n",
       "      <td>0.000</td>\n",
       "      <td>0.000</td>\n",
       "      <td>0.000</td>\n",
       "      <td>0.0</td>\n",
       "      <td>False</td>\n",
       "    </tr>\n",
       "    <tr>\n",
       "      <th>2</th>\n",
       "      <td>5.374</td>\n",
       "      <td>233.29</td>\n",
       "      <td>23.0</td>\n",
       "      <td>2006-12-16 17:26:00</td>\n",
       "      <td>5.360</td>\n",
       "      <td>4.216</td>\n",
       "      <td>0.000</td>\n",
       "      <td>0.000</td>\n",
       "      <td>0.0</td>\n",
       "      <td>False</td>\n",
       "    </tr>\n",
       "    <tr>\n",
       "      <th>3</th>\n",
       "      <td>5.388</td>\n",
       "      <td>233.74</td>\n",
       "      <td>23.0</td>\n",
       "      <td>2006-12-16 17:27:00</td>\n",
       "      <td>5.374</td>\n",
       "      <td>5.360</td>\n",
       "      <td>4.216</td>\n",
       "      <td>0.000</td>\n",
       "      <td>0.0</td>\n",
       "      <td>False</td>\n",
       "    </tr>\n",
       "    <tr>\n",
       "      <th>4</th>\n",
       "      <td>3.666</td>\n",
       "      <td>235.68</td>\n",
       "      <td>15.8</td>\n",
       "      <td>2006-12-16 17:28:00</td>\n",
       "      <td>5.388</td>\n",
       "      <td>5.374</td>\n",
       "      <td>5.360</td>\n",
       "      <td>4.216</td>\n",
       "      <td>0.0</td>\n",
       "      <td>False</td>\n",
       "    </tr>\n",
       "  </tbody>\n",
       "</table>\n",
       "</div>"
      ],
      "text/plain": [
       "   Global_active_power  Voltage  Global_intensity           DATE_TIME    T_1  \\\n",
       "0                4.216   234.84              18.4 2006-12-16 17:24:00  0.000   \n",
       "1                5.360   233.63              23.0 2006-12-16 17:25:00  4.216   \n",
       "2                5.374   233.29              23.0 2006-12-16 17:26:00  5.360   \n",
       "3                5.388   233.74              23.0 2006-12-16 17:27:00  5.374   \n",
       "4                3.666   235.68              15.8 2006-12-16 17:28:00  5.388   \n",
       "\n",
       "     T_2    T_3    T_4  T_5  IS_HOLIDAY  \n",
       "0  0.000  0.000  0.000  0.0       False  \n",
       "1  0.000  0.000  0.000  0.0       False  \n",
       "2  4.216  0.000  0.000  0.0       False  \n",
       "3  5.360  4.216  0.000  0.0       False  \n",
       "4  5.374  5.360  4.216  0.0       False  "
      ]
     },
     "execution_count": 53,
     "metadata": {},
     "output_type": "execute_result"
    }
   ],
   "source": [
    "content.head()"
   ]
  },
  {
   "cell_type": "code",
   "execution_count": 54,
   "metadata": {},
   "outputs": [],
   "source": [
    "content.IS_HOLIDAY = content.IS_HOLIDAY.astype(\"int\")"
   ]
  },
  {
   "cell_type": "code",
   "execution_count": null,
   "metadata": {},
   "outputs": [],
   "source": []
  },
  {
   "cell_type": "code",
   "execution_count": 55,
   "metadata": {},
   "outputs": [],
   "source": [
    "result=content"
   ]
  },
  {
   "cell_type": "code",
   "execution_count": 56,
   "metadata": {},
   "outputs": [
    {
     "data": {
      "text/html": [
       "<div>\n",
       "<style scoped>\n",
       "    .dataframe tbody tr th:only-of-type {\n",
       "        vertical-align: middle;\n",
       "    }\n",
       "\n",
       "    .dataframe tbody tr th {\n",
       "        vertical-align: top;\n",
       "    }\n",
       "\n",
       "    .dataframe thead th {\n",
       "        text-align: right;\n",
       "    }\n",
       "</style>\n",
       "<table border=\"1\" class=\"dataframe\">\n",
       "  <thead>\n",
       "    <tr style=\"text-align: right;\">\n",
       "      <th></th>\n",
       "      <th>Global_active_power</th>\n",
       "      <th>Voltage</th>\n",
       "      <th>Global_intensity</th>\n",
       "      <th>DATE_TIME</th>\n",
       "      <th>T_1</th>\n",
       "      <th>T_2</th>\n",
       "      <th>T_3</th>\n",
       "      <th>T_4</th>\n",
       "      <th>T_5</th>\n",
       "      <th>IS_HOLIDAY</th>\n",
       "    </tr>\n",
       "  </thead>\n",
       "  <tbody>\n",
       "    <tr>\n",
       "      <th>0</th>\n",
       "      <td>4.216</td>\n",
       "      <td>234.84</td>\n",
       "      <td>18.4</td>\n",
       "      <td>2006-12-16 17:24:00</td>\n",
       "      <td>0.000</td>\n",
       "      <td>0.000</td>\n",
       "      <td>0.000</td>\n",
       "      <td>0.000</td>\n",
       "      <td>0.0</td>\n",
       "      <td>0</td>\n",
       "    </tr>\n",
       "    <tr>\n",
       "      <th>1</th>\n",
       "      <td>5.360</td>\n",
       "      <td>233.63</td>\n",
       "      <td>23.0</td>\n",
       "      <td>2006-12-16 17:25:00</td>\n",
       "      <td>4.216</td>\n",
       "      <td>0.000</td>\n",
       "      <td>0.000</td>\n",
       "      <td>0.000</td>\n",
       "      <td>0.0</td>\n",
       "      <td>0</td>\n",
       "    </tr>\n",
       "    <tr>\n",
       "      <th>2</th>\n",
       "      <td>5.374</td>\n",
       "      <td>233.29</td>\n",
       "      <td>23.0</td>\n",
       "      <td>2006-12-16 17:26:00</td>\n",
       "      <td>5.360</td>\n",
       "      <td>4.216</td>\n",
       "      <td>0.000</td>\n",
       "      <td>0.000</td>\n",
       "      <td>0.0</td>\n",
       "      <td>0</td>\n",
       "    </tr>\n",
       "    <tr>\n",
       "      <th>3</th>\n",
       "      <td>5.388</td>\n",
       "      <td>233.74</td>\n",
       "      <td>23.0</td>\n",
       "      <td>2006-12-16 17:27:00</td>\n",
       "      <td>5.374</td>\n",
       "      <td>5.360</td>\n",
       "      <td>4.216</td>\n",
       "      <td>0.000</td>\n",
       "      <td>0.0</td>\n",
       "      <td>0</td>\n",
       "    </tr>\n",
       "    <tr>\n",
       "      <th>4</th>\n",
       "      <td>3.666</td>\n",
       "      <td>235.68</td>\n",
       "      <td>15.8</td>\n",
       "      <td>2006-12-16 17:28:00</td>\n",
       "      <td>5.388</td>\n",
       "      <td>5.374</td>\n",
       "      <td>5.360</td>\n",
       "      <td>4.216</td>\n",
       "      <td>0.0</td>\n",
       "      <td>0</td>\n",
       "    </tr>\n",
       "  </tbody>\n",
       "</table>\n",
       "</div>"
      ],
      "text/plain": [
       "   Global_active_power  Voltage  Global_intensity           DATE_TIME    T_1  \\\n",
       "0                4.216   234.84              18.4 2006-12-16 17:24:00  0.000   \n",
       "1                5.360   233.63              23.0 2006-12-16 17:25:00  4.216   \n",
       "2                5.374   233.29              23.0 2006-12-16 17:26:00  5.360   \n",
       "3                5.388   233.74              23.0 2006-12-16 17:27:00  5.374   \n",
       "4                3.666   235.68              15.8 2006-12-16 17:28:00  5.388   \n",
       "\n",
       "     T_2    T_3    T_4  T_5  IS_HOLIDAY  \n",
       "0  0.000  0.000  0.000  0.0           0  \n",
       "1  0.000  0.000  0.000  0.0           0  \n",
       "2  4.216  0.000  0.000  0.0           0  \n",
       "3  5.360  4.216  0.000  0.0           0  \n",
       "4  5.374  5.360  4.216  0.0           0  "
      ]
     },
     "execution_count": 56,
     "metadata": {},
     "output_type": "execute_result"
    }
   ],
   "source": [
    "result.head()"
   ]
  },
  {
   "cell_type": "code",
   "execution_count": 57,
   "metadata": {},
   "outputs": [],
   "source": [
    "result=result.drop(['DATE_TIME'],axis=1)"
   ]
  },
  {
   "cell_type": "code",
   "execution_count": 58,
   "metadata": {},
   "outputs": [
    {
     "data": {
      "text/plain": [
       "Global_active_power    float64\n",
       "Voltage                float64\n",
       "Global_intensity       float64\n",
       "T_1                    float64\n",
       "T_2                    float64\n",
       "T_3                    float64\n",
       "T_4                    float64\n",
       "T_5                    float64\n",
       "IS_HOLIDAY               int32\n",
       "dtype: object"
      ]
     },
     "execution_count": 58,
     "metadata": {},
     "output_type": "execute_result"
    }
   ],
   "source": [
    "result.dtypes"
   ]
  },
  {
   "cell_type": "code",
   "execution_count": 59,
   "metadata": {},
   "outputs": [
    {
     "data": {
      "text/plain": [
       "2049280"
      ]
     },
     "execution_count": 59,
     "metadata": {},
     "output_type": "execute_result"
    }
   ],
   "source": [
    "len(result)"
   ]
  },
  {
   "cell_type": "code",
   "execution_count": 60,
   "metadata": {},
   "outputs": [],
   "source": [
    "row = int(round(0.9 * result.shape[0]))\n"
   ]
  },
  {
   "cell_type": "code",
   "execution_count": 61,
   "metadata": {},
   "outputs": [
    {
     "data": {
      "text/plain": [
       "1844352"
      ]
     },
     "execution_count": 61,
     "metadata": {},
     "output_type": "execute_result"
    }
   ],
   "source": [
    "row"
   ]
  },
  {
   "cell_type": "code",
   "execution_count": 62,
   "metadata": {},
   "outputs": [],
   "source": [
    "train = result.iloc[:row,:]\n"
   ]
  },
  {
   "cell_type": "code",
   "execution_count": 63,
   "metadata": {},
   "outputs": [
    {
     "data": {
      "text/plain": [
       "1844352"
      ]
     },
     "execution_count": 63,
     "metadata": {},
     "output_type": "execute_result"
    }
   ],
   "source": [
    "len(train)"
   ]
  },
  {
   "cell_type": "code",
   "execution_count": 64,
   "metadata": {},
   "outputs": [],
   "source": [
    "import numpy as np\n"
   ]
  },
  {
   "cell_type": "code",
   "execution_count": 65,
   "metadata": {},
   "outputs": [],
   "source": [
    "from sklearn.utils import shuffle\n",
    "train = shuffle(train)"
   ]
  },
  {
   "cell_type": "code",
   "execution_count": 66,
   "metadata": {},
   "outputs": [
    {
     "data": {
      "text/html": [
       "<div>\n",
       "<style scoped>\n",
       "    .dataframe tbody tr th:only-of-type {\n",
       "        vertical-align: middle;\n",
       "    }\n",
       "\n",
       "    .dataframe tbody tr th {\n",
       "        vertical-align: top;\n",
       "    }\n",
       "\n",
       "    .dataframe thead th {\n",
       "        text-align: right;\n",
       "    }\n",
       "</style>\n",
       "<table border=\"1\" class=\"dataframe\">\n",
       "  <thead>\n",
       "    <tr style=\"text-align: right;\">\n",
       "      <th></th>\n",
       "      <th>Global_active_power</th>\n",
       "      <th>Voltage</th>\n",
       "      <th>Global_intensity</th>\n",
       "      <th>T_1</th>\n",
       "      <th>T_2</th>\n",
       "      <th>T_3</th>\n",
       "      <th>T_4</th>\n",
       "      <th>T_5</th>\n",
       "      <th>IS_HOLIDAY</th>\n",
       "    </tr>\n",
       "  </thead>\n",
       "  <tbody>\n",
       "    <tr>\n",
       "      <th>4794</th>\n",
       "      <td>0.210</td>\n",
       "      <td>246.68</td>\n",
       "      <td>0.8</td>\n",
       "      <td>0.228</td>\n",
       "      <td>0.268</td>\n",
       "      <td>0.298</td>\n",
       "      <td>0.280</td>\n",
       "      <td>0.298</td>\n",
       "      <td>0</td>\n",
       "    </tr>\n",
       "    <tr>\n",
       "      <th>1782331</th>\n",
       "      <td>1.348</td>\n",
       "      <td>236.36</td>\n",
       "      <td>5.6</td>\n",
       "      <td>1.340</td>\n",
       "      <td>1.306</td>\n",
       "      <td>1.256</td>\n",
       "      <td>1.256</td>\n",
       "      <td>1.264</td>\n",
       "      <td>0</td>\n",
       "    </tr>\n",
       "    <tr>\n",
       "      <th>407334</th>\n",
       "      <td>0.708</td>\n",
       "      <td>238.35</td>\n",
       "      <td>3.0</td>\n",
       "      <td>0.728</td>\n",
       "      <td>0.708</td>\n",
       "      <td>0.728</td>\n",
       "      <td>0.706</td>\n",
       "      <td>0.724</td>\n",
       "      <td>0</td>\n",
       "    </tr>\n",
       "    <tr>\n",
       "      <th>709060</th>\n",
       "      <td>0.354</td>\n",
       "      <td>243.07</td>\n",
       "      <td>1.6</td>\n",
       "      <td>0.350</td>\n",
       "      <td>0.372</td>\n",
       "      <td>0.698</td>\n",
       "      <td>1.004</td>\n",
       "      <td>0.984</td>\n",
       "      <td>0</td>\n",
       "    </tr>\n",
       "    <tr>\n",
       "      <th>957163</th>\n",
       "      <td>1.282</td>\n",
       "      <td>237.99</td>\n",
       "      <td>5.4</td>\n",
       "      <td>1.272</td>\n",
       "      <td>1.268</td>\n",
       "      <td>1.278</td>\n",
       "      <td>1.276</td>\n",
       "      <td>1.284</td>\n",
       "      <td>0</td>\n",
       "    </tr>\n",
       "  </tbody>\n",
       "</table>\n",
       "</div>"
      ],
      "text/plain": [
       "         Global_active_power  Voltage  Global_intensity    T_1    T_2    T_3  \\\n",
       "4794                   0.210   246.68               0.8  0.228  0.268  0.298   \n",
       "1782331                1.348   236.36               5.6  1.340  1.306  1.256   \n",
       "407334                 0.708   238.35               3.0  0.728  0.708  0.728   \n",
       "709060                 0.354   243.07               1.6  0.350  0.372  0.698   \n",
       "957163                 1.282   237.99               5.4  1.272  1.268  1.278   \n",
       "\n",
       "           T_4    T_5  IS_HOLIDAY  \n",
       "4794     0.280  0.298           0  \n",
       "1782331  1.256  1.264           0  \n",
       "407334   0.706  0.724           0  \n",
       "709060   1.004  0.984           0  \n",
       "957163   1.276  1.284           0  "
      ]
     },
     "execution_count": 66,
     "metadata": {},
     "output_type": "execute_result"
    }
   ],
   "source": [
    "train.head()"
   ]
  },
  {
   "cell_type": "code",
   "execution_count": 67,
   "metadata": {},
   "outputs": [
    {
     "data": {
      "text/plain": [
       "Global_active_power    float64\n",
       "Voltage                float64\n",
       "Global_intensity       float64\n",
       "T_1                    float64\n",
       "T_2                    float64\n",
       "T_3                    float64\n",
       "T_4                    float64\n",
       "T_5                    float64\n",
       "IS_HOLIDAY               int32\n",
       "dtype: object"
      ]
     },
     "execution_count": 67,
     "metadata": {},
     "output_type": "execute_result"
    }
   ],
   "source": [
    "train.dtypes"
   ]
  },
  {
   "cell_type": "code",
   "execution_count": 68,
   "metadata": {},
   "outputs": [],
   "source": [
    "train=train.sample(frac=0.75, random_state=2)"
   ]
  },
  {
   "cell_type": "code",
   "execution_count": 69,
   "metadata": {},
   "outputs": [],
   "source": [
    "X_train = train.iloc[:, 1:]\n",
    "y_train = train.iloc[:, 0]\n",
    "X_test = result.iloc[row:, 1:]\n",
    "y_test = result.iloc[row:, 0]"
   ]
  },
  {
   "cell_type": "code",
   "execution_count": 70,
   "metadata": {},
   "outputs": [
    {
     "data": {
      "text/html": [
       "<div>\n",
       "<style scoped>\n",
       "    .dataframe tbody tr th:only-of-type {\n",
       "        vertical-align: middle;\n",
       "    }\n",
       "\n",
       "    .dataframe tbody tr th {\n",
       "        vertical-align: top;\n",
       "    }\n",
       "\n",
       "    .dataframe thead th {\n",
       "        text-align: right;\n",
       "    }\n",
       "</style>\n",
       "<table border=\"1\" class=\"dataframe\">\n",
       "  <thead>\n",
       "    <tr style=\"text-align: right;\">\n",
       "      <th></th>\n",
       "      <th>Voltage</th>\n",
       "      <th>Global_intensity</th>\n",
       "      <th>T_1</th>\n",
       "      <th>T_2</th>\n",
       "      <th>T_3</th>\n",
       "      <th>T_4</th>\n",
       "      <th>T_5</th>\n",
       "      <th>IS_HOLIDAY</th>\n",
       "    </tr>\n",
       "  </thead>\n",
       "  <tbody>\n",
       "    <tr>\n",
       "      <th>1216481</th>\n",
       "      <td>243.32</td>\n",
       "      <td>5.6</td>\n",
       "      <td>1.356</td>\n",
       "      <td>1.356</td>\n",
       "      <td>1.370</td>\n",
       "      <td>1.380</td>\n",
       "      <td>1.472</td>\n",
       "      <td>0</td>\n",
       "    </tr>\n",
       "    <tr>\n",
       "      <th>1661539</th>\n",
       "      <td>241.50</td>\n",
       "      <td>5.8</td>\n",
       "      <td>1.404</td>\n",
       "      <td>1.426</td>\n",
       "      <td>1.420</td>\n",
       "      <td>1.424</td>\n",
       "      <td>1.422</td>\n",
       "      <td>0</td>\n",
       "    </tr>\n",
       "    <tr>\n",
       "      <th>1469987</th>\n",
       "      <td>241.55</td>\n",
       "      <td>2.0</td>\n",
       "      <td>0.474</td>\n",
       "      <td>0.472</td>\n",
       "      <td>0.474</td>\n",
       "      <td>0.472</td>\n",
       "      <td>0.474</td>\n",
       "      <td>0</td>\n",
       "    </tr>\n",
       "    <tr>\n",
       "      <th>216547</th>\n",
       "      <td>235.39</td>\n",
       "      <td>1.6</td>\n",
       "      <td>0.368</td>\n",
       "      <td>0.368</td>\n",
       "      <td>0.356</td>\n",
       "      <td>0.280</td>\n",
       "      <td>0.210</td>\n",
       "      <td>0</td>\n",
       "    </tr>\n",
       "    <tr>\n",
       "      <th>32329</th>\n",
       "      <td>241.40</td>\n",
       "      <td>5.2</td>\n",
       "      <td>1.310</td>\n",
       "      <td>1.294</td>\n",
       "      <td>1.308</td>\n",
       "      <td>1.284</td>\n",
       "      <td>1.304</td>\n",
       "      <td>0</td>\n",
       "    </tr>\n",
       "  </tbody>\n",
       "</table>\n",
       "</div>"
      ],
      "text/plain": [
       "         Voltage  Global_intensity    T_1    T_2    T_3    T_4    T_5  \\\n",
       "1216481   243.32               5.6  1.356  1.356  1.370  1.380  1.472   \n",
       "1661539   241.50               5.8  1.404  1.426  1.420  1.424  1.422   \n",
       "1469987   241.55               2.0  0.474  0.472  0.474  0.472  0.474   \n",
       "216547    235.39               1.6  0.368  0.368  0.356  0.280  0.210   \n",
       "32329     241.40               5.2  1.310  1.294  1.308  1.284  1.304   \n",
       "\n",
       "         IS_HOLIDAY  \n",
       "1216481           0  \n",
       "1661539           0  \n",
       "1469987           0  \n",
       "216547            0  \n",
       "32329             0  "
      ]
     },
     "execution_count": 70,
     "metadata": {},
     "output_type": "execute_result"
    }
   ],
   "source": [
    "X_train.head()"
   ]
  },
  {
   "cell_type": "code",
   "execution_count": 71,
   "metadata": {},
   "outputs": [
    {
     "data": {
      "text/plain": [
       "1216481    1.362\n",
       "1661539    1.402\n",
       "1469987    0.468\n",
       "216547     0.368\n",
       "32329      1.290\n",
       "Name: Global_active_power, dtype: float64"
      ]
     },
     "execution_count": 71,
     "metadata": {},
     "output_type": "execute_result"
    }
   ],
   "source": [
    "y_train.head()"
   ]
  },
  {
   "cell_type": "code",
   "execution_count": 72,
   "metadata": {},
   "outputs": [
    {
     "data": {
      "text/plain": [
       "((1383264, 8), (1383264,), (204928, 8), (204928,))"
      ]
     },
     "execution_count": 72,
     "metadata": {},
     "output_type": "execute_result"
    }
   ],
   "source": [
    "X_train.shape, y_train.shape, X_test.shape, y_test.shape"
   ]
  },
  {
   "cell_type": "code",
   "execution_count": 73,
   "metadata": {},
   "outputs": [],
   "source": [
    "scaler = StandardScaler()"
   ]
  },
  {
   "cell_type": "code",
   "execution_count": 74,
   "metadata": {},
   "outputs": [],
   "source": [
    "X_train_scaled = scaler.fit_transform(X_train)\n",
    "X_test_scaled = scaler.fit_transform(X_test)"
   ]
  },
  {
   "cell_type": "code",
   "execution_count": 75,
   "metadata": {},
   "outputs": [
    {
     "data": {
      "text/plain": [
       "(1383264, 8)"
      ]
     },
     "execution_count": 75,
     "metadata": {},
     "output_type": "execute_result"
    }
   ],
   "source": [
    "X_train_scaled.shape"
   ]
  },
  {
   "cell_type": "code",
   "execution_count": 76,
   "metadata": {},
   "outputs": [],
   "source": [
    "rfr  = RandomForestRegressor(n_estimators = 50,max_depth=50, oob_score=True, random_state=2017,n_jobs=-1)"
   ]
  },
  {
   "cell_type": "raw",
   "metadata": {},
   "source": []
  },
  {
   "cell_type": "code",
   "execution_count": 77,
   "metadata": {},
   "outputs": [
    {
     "data": {
      "text/plain": [
       "RandomForestRegressor(bootstrap=True, criterion='mse', max_depth=50,\n",
       "           max_features='auto', max_leaf_nodes=None,\n",
       "           min_impurity_decrease=0.0, min_impurity_split=None,\n",
       "           min_samples_leaf=1, min_samples_split=2,\n",
       "           min_weight_fraction_leaf=0.0, n_estimators=50, n_jobs=-1,\n",
       "           oob_score=True, random_state=2017, verbose=0, warm_start=False)"
      ]
     },
     "execution_count": 77,
     "metadata": {},
     "output_type": "execute_result"
    }
   ],
   "source": [
    "rfr.fit(X_train_scaled,y_train)"
   ]
  },
  {
   "cell_type": "code",
   "execution_count": 78,
   "metadata": {},
   "outputs": [],
   "source": [
    "predicted1 = rfr.predict(X_test)"
   ]
  },
  {
   "cell_type": "code",
   "execution_count": 88,
   "metadata": {},
   "outputs": [
    {
     "data": {
      "text/plain": [
       "21.049809357204385"
      ]
     },
     "execution_count": 88,
     "metadata": {},
     "output_type": "execute_result"
    }
   ],
   "source": [
    "mean_squared_error(predicted1,y_test)"
   ]
  },
  {
   "cell_type": "code",
   "execution_count": 89,
   "metadata": {},
   "outputs": [
    {
     "data": {
      "text/plain": [
       "array([5.6528 , 5.6528 , 5.25592, ..., 5.25592, 5.25592, 5.25592])"
      ]
     },
     "execution_count": 89,
     "metadata": {},
     "output_type": "execute_result"
    }
   ],
   "source": [
    "predicted1"
   ]
  },
  {
   "cell_type": "code",
   "execution_count": 90,
   "metadata": {},
   "outputs": [],
   "source": [
    "train = result.iloc[:row,:]\n"
   ]
  },
  {
   "cell_type": "code",
   "execution_count": 91,
   "metadata": {},
   "outputs": [],
   "source": [
    "\n",
    "train = result.iloc[:row, :]\n",
    "train = shuffle(train)\n",
    "X_train = train.iloc[:, 1:]\n",
    "y_train = train.iloc[:, 0]\n",
    "X_test = result.iloc[row:, 1:]\n",
    "y_test = result.iloc[row:, 0]"
   ]
  },
  {
   "cell_type": "code",
   "execution_count": 92,
   "metadata": {},
   "outputs": [
    {
     "data": {
      "text/plain": [
       "((1844352, 8), (1844352,), (204928, 8), (204928,))"
      ]
     },
     "execution_count": 92,
     "metadata": {},
     "output_type": "execute_result"
    }
   ],
   "source": [
    "X_train.shape, y_train.shape, X_test.shape, y_test.shape"
   ]
  },
  {
   "cell_type": "code",
   "execution_count": 93,
   "metadata": {},
   "outputs": [],
   "source": [
    "X_train_scaled = scaler.fit_transform(X_train)\n",
    "X_test_scaled = scaler.fit_transform(X_test)"
   ]
  },
  {
   "cell_type": "code",
   "execution_count": null,
   "metadata": {},
   "outputs": [],
   "source": []
  },
  {
   "cell_type": "code",
   "execution_count": 94,
   "metadata": {},
   "outputs": [],
   "source": [
    "X_train_reshaped = X_train_scaled.reshape((X_train_scaled.shape[0], 1, X_train_scaled.shape[1]))\n",
    "X_test_reshaped = X_test_scaled.reshape((X_test_scaled.shape[0], 1, X_test_scaled.shape[1]))"
   ]
  },
  {
   "cell_type": "code",
   "execution_count": 95,
   "metadata": {},
   "outputs": [
    {
     "data": {
      "text/plain": [
       "((1844352, 1, 8), (1844352,), (204928, 1, 8), (204928,))"
      ]
     },
     "execution_count": 95,
     "metadata": {},
     "output_type": "execute_result"
    }
   ],
   "source": [
    "X_train_reshaped.shape, y_train.shape, X_test_reshaped.shape, y_test.shape"
   ]
  },
  {
   "cell_type": "code",
   "execution_count": 96,
   "metadata": {},
   "outputs": [],
   "source": [
    "# model_k = Sequential()\n",
    "# model_k.add(LSTM(1, input_shape=(1,8)))\n",
    "# model_k.add(Dense(1))\n",
    "# model_k.compile(loss='mean_squared_error', optimizer='adam')"
   ]
  },
  {
   "cell_type": "code",
   "execution_count": 97,
   "metadata": {},
   "outputs": [],
   "source": [
    "# model_k.fit(X_train_reshaped, y_train, validation_split=0.05,epochs=1, batch_size=256, verbose=2)"
   ]
  },
  {
   "cell_type": "code",
   "execution_count": 98,
   "metadata": {},
   "outputs": [],
   "source": [
    "# model_k.fit(X_train_reshaped, y_train, validation_split=0.05,epochs=10, batch_size=256, verbose=2)"
   ]
  },
  {
   "cell_type": "code",
   "execution_count": 99,
   "metadata": {},
   "outputs": [],
   "source": [
    "# X_test_reshaped = X_test_scaled.reshape((X_test_scaled.shape[0], 1, X_test_scaled.shape[1]))"
   ]
  },
  {
   "cell_type": "code",
   "execution_count": 100,
   "metadata": {},
   "outputs": [],
   "source": [
    "# res = model_k.predict(X_test_reshaped)"
   ]
  },
  {
   "cell_type": "code",
   "execution_count": 101,
   "metadata": {},
   "outputs": [],
   "source": [
    "# mean_squared_error(res,y_test)"
   ]
  },
  {
   "cell_type": "code",
   "execution_count": 102,
   "metadata": {},
   "outputs": [],
   "source": [
    "# res.shape"
   ]
  },
  {
   "cell_type": "code",
   "execution_count": 103,
   "metadata": {},
   "outputs": [],
   "source": [
    "# y_test.shape"
   ]
  },
  {
   "cell_type": "code",
   "execution_count": 104,
   "metadata": {},
   "outputs": [],
   "source": [
    "# res = np.reshape(res, (res.size,))\n",
    "# print(res.shape)"
   ]
  },
  {
   "cell_type": "code",
   "execution_count": 105,
   "metadata": {},
   "outputs": [],
   "source": [
    "# plt.plot(y_test[:100])"
   ]
  },
  {
   "cell_type": "code",
   "execution_count": 106,
   "metadata": {},
   "outputs": [],
   "source": [
    "# plt.plot(res[:100])\n"
   ]
  },
  {
   "cell_type": "code",
   "execution_count": 107,
   "metadata": {},
   "outputs": [],
   "source": [
    "# res"
   ]
  },
  {
   "cell_type": "code",
   "execution_count": 108,
   "metadata": {},
   "outputs": [],
   "source": [
    "#     try:\n",
    "#         fig = plt.figure()\n",
    "#         ax = fig.add_subplot(111)\n",
    "#         ax.plot(y_test.values[:100])\n",
    "#         plt.plot(res[:100])\n",
    "#         plt.show()\n",
    "#     except Exception as e:\n",
    "#         print (str(e))"
   ]
  },
  {
   "cell_type": "code",
   "execution_count": 109,
   "metadata": {},
   "outputs": [],
   "source": [
    "# mean_squared_error(res,y_test)"
   ]
  },
  {
   "cell_type": "code",
   "execution_count": 110,
   "metadata": {},
   "outputs": [
    {
     "name": "stdout",
     "output_type": "stream",
     "text": [
      "Compilation Time :  0.050133705139160156\n"
     ]
    }
   ],
   "source": [
    "model = Sequential()\n",
    "layers = [1, 50, 100, 1]\n",
    "\n",
    "model.add(LSTM(\n",
    "        layers[1],\n",
    "        input_shape=(None, 8),\n",
    "        return_sequences=True))\n",
    "model.add(Dropout(0.2))\n",
    "\n",
    "model.add(LSTM(\n",
    "        layers[2],\n",
    "        return_sequences=False))\n",
    "model.add(Dropout(0.2))\n",
    "\n",
    "model.add(Dense(\n",
    "        layers[3]))\n",
    "model.add(Activation(\"linear\"))\n",
    "\n",
    "start = time.time()\n",
    "model.compile(loss=\"mse\", optimizer=\"rmsprop\")\n",
    "print (\"Compilation Time : \", time.time() - start)\n",
    "    \n"
   ]
  },
  {
   "cell_type": "code",
   "execution_count": 111,
   "metadata": {},
   "outputs": [
    {
     "name": "stderr",
     "output_type": "stream",
     "text": [
      "C:\\Users\\Apratim\\Anaconda3\\envs\\tensorflow\\lib\\site-packages\\keras\\models.py:944: UserWarning: The `nb_epoch` argument in `fit` has been renamed `epochs`.\n",
      "  warnings.warn('The `nb_epoch` argument in `fit` '\n"
     ]
    },
    {
     "name": "stdout",
     "output_type": "stream",
     "text": [
      "Train on 1752134 samples, validate on 92218 samples\n",
      "Epoch 1/10\n",
      "1752134/1752134 [==============================] - 71s 40us/step - loss: 0.0293 - val_loss: 0.0025\n",
      "Epoch 2/10\n",
      "1752134/1752134 [==============================] - 71s 40us/step - loss: 0.0097 - val_loss: 0.0029\n",
      "Epoch 3/10\n",
      "1752134/1752134 [==============================] - 70s 40us/step - loss: 0.0088 - val_loss: 0.0031\n",
      "Epoch 4/10\n",
      "1752134/1752134 [==============================] - 70s 40us/step - loss: 0.0082 - val_loss: 0.0028\n",
      "Epoch 5/10\n",
      "1752134/1752134 [==============================] - 70s 40us/step - loss: 0.0079 - val_loss: 0.0032\n",
      "Epoch 6/10\n",
      "1752134/1752134 [==============================] - 71s 41us/step - loss: 0.0077 - val_loss: 0.0020\n",
      "Epoch 7/10\n",
      "1752134/1752134 [==============================] - 72s 41us/step - loss: 0.0075 - val_loss: 0.0016\n",
      "Epoch 8/10\n",
      "1752134/1752134 [==============================] - 70s 40us/step - loss: 0.0073 - val_loss: 0.0016\n",
      "Epoch 9/10\n",
      "1752134/1752134 [==============================] - 57s 32us/step - loss: 0.0072 - val_loss: 0.0017\n",
      "Epoch 10/10\n",
      "1752134/1752134 [==============================] - 57s 33us/step - loss: 0.0071 - val_loss: 0.0014\n"
     ]
    },
    {
     "data": {
      "text/plain": [
       "<keras.callbacks.History at 0x2dd8836ec88>"
      ]
     },
     "execution_count": 111,
     "metadata": {},
     "output_type": "execute_result"
    }
   ],
   "source": [
    "model.fit(X_train_reshaped, y_train,batch_size=512, nb_epoch=10, validation_split=0.05)"
   ]
  },
  {
   "cell_type": "code",
   "execution_count": 137,
   "metadata": {},
   "outputs": [
    {
     "name": "stderr",
     "output_type": "stream",
     "text": [
      "C:\\Users\\Apratim\\Anaconda3\\envs\\tensorflow\\lib\\site-packages\\keras\\models.py:944: UserWarning: The `nb_epoch` argument in `fit` has been renamed `epochs`.\n",
      "  warnings.warn('The `nb_epoch` argument in `fit` '\n"
     ]
    },
    {
     "name": "stdout",
     "output_type": "stream",
     "text": [
      "Train on 1752134 samples, validate on 92218 samples\n",
      "Epoch 1/10\n",
      "1752134/1752134 [==============================] - 71s 41us/step - loss: 0.0070 - val_loss: 0.0025\n",
      "Epoch 2/10\n",
      "1752134/1752134 [==============================] - 73s 41us/step - loss: 0.0070 - val_loss: 0.0058\n",
      "Epoch 3/10\n",
      "1752134/1752134 [==============================] - 72s 41us/step - loss: 0.0069 - val_loss: 0.0016\n",
      "Epoch 4/10\n",
      "1752134/1752134 [==============================] - 72s 41us/step - loss: 0.0068 - val_loss: 0.0016\n",
      "Epoch 5/10\n",
      "1752134/1752134 [==============================] - 76s 44us/step - loss: 0.0067 - val_loss: 0.0023\n",
      "Epoch 6/10\n",
      "1752134/1752134 [==============================] - 71s 40us/step - loss: 0.0066 - val_loss: 0.0021\n",
      "Epoch 7/10\n",
      "1752134/1752134 [==============================] - 72s 41us/step - loss: 0.0066 - val_loss: 0.0028\n",
      "Epoch 8/10\n",
      "1752134/1752134 [==============================] - 73s 42us/step - loss: 0.0065 - val_loss: 0.0044\n",
      "Epoch 9/10\n",
      "1752134/1752134 [==============================] - 71s 41us/step - loss: 0.0064 - val_loss: 0.0034\n",
      "Epoch 10/10\n",
      "1752134/1752134 [==============================] - 70s 40us/step - loss: 0.0064 - val_loss: 0.0021\n"
     ]
    }
   ],
   "source": [
    "history=model.fit(X_train_reshaped, y_train,batch_size=512, nb_epoch=10, validation_split=0.05)"
   ]
  },
  {
   "cell_type": "code",
   "execution_count": 138,
   "metadata": {},
   "outputs": [
    {
     "data": {
      "text/plain": [
       "<keras.callbacks.History at 0x2dd9b09fa58>"
      ]
     },
     "execution_count": 138,
     "metadata": {},
     "output_type": "execute_result"
    }
   ],
   "source": [
    "history"
   ]
  },
  {
   "cell_type": "code",
   "execution_count": 140,
   "metadata": {},
   "outputs": [
    {
     "data": {
      "image/png": "[encoded data removed]",
      "text/plain": [
       "<matplotlib.figure.Figure at 0x2dd9e162e48>"
      ]
     },
     "metadata": {},
     "output_type": "display_data"
    }
   ],
   "source": [
    "from matplotlib import pyplot\n",
    "pyplot.plot(history.history['loss'], label='train')\n",
    "pyplot.plot(history.history['val_loss'], label='Validation')\n",
    "pyplot.legend()\n",
    "pyplot.show()"
   ]
  },
  {
   "cell_type": "code",
   "execution_count": 112,
   "metadata": {},
   "outputs": [],
   "source": [
    "res2 = model.predict(X_test_reshaped)"
   ]
  },
  {
   "cell_type": "code",
   "execution_count": 136,
   "metadata": {},
   "outputs": [
    {
     "name": "stdout",
     "output_type": "stream",
     "text": [
      "_________________________________________________________________\n",
      "Layer (type)                 Output Shape              Param #   \n",
      "=================================================================\n",
      "lstm_1 (LSTM)                (None, None, 50)          11800     \n",
      "_________________________________________________________________\n",
      "dropout_1 (Dropout)          (None, None, 50)          0         \n",
      "_________________________________________________________________\n",
      "lstm_2 (LSTM)                (None, 100)               60400     \n",
      "_________________________________________________________________\n",
      "dropout_2 (Dropout)          (None, 100)               0         \n",
      "_________________________________________________________________\n",
      "dense_1 (Dense)              (None, 1)                 101       \n",
      "_________________________________________________________________\n",
      "activation_1 (Activation)    (None, 1)                 0         \n",
      "=================================================================\n",
      "Total params: 72,301\n",
      "Trainable params: 72,301\n",
      "Non-trainable params: 0\n",
      "_________________________________________________________________\n"
     ]
    }
   ],
   "source": [
    "model.summary()"
   ]
  },
  {
   "cell_type": "code",
   "execution_count": 113,
   "metadata": {},
   "outputs": [
    {
     "data": {
      "text/plain": [
       "array([[-0.46462228,  0.06874348,  0.0930337 ,  0.0953532 ,  0.11391216,\n",
       "         0.10927185,  0.04663354, -0.00382616]])"
      ]
     },
     "execution_count": 113,
     "metadata": {},
     "output_type": "execute_result"
    }
   ],
   "source": [
    "X_test_reshaped[0,:]"
   ]
  },
  {
   "cell_type": "code",
   "execution_count": 114,
   "metadata": {},
   "outputs": [
    {
     "name": "stdout",
     "output_type": "stream",
     "text": [
      "(204928,)\n"
     ]
    }
   ],
   "source": [
    "\n",
    "res2 = np.reshape(res2, (res2.size,))\n",
    "print(res2.shape)"
   ]
  },
  {
   "cell_type": "code",
   "execution_count": 154,
   "metadata": {},
   "outputs": [
    {
     "data": {
      "image/png": "[encoded data removed]",
      "text/plain": [
       "<matplotlib.figure.Figure at 0x2dd9c42f668>"
      ]
     },
     "metadata": {},
     "output_type": "display_data"
    }
   ],
   "source": [
    "    try:\n",
    "        fig = plt.figure(figsize=(10,10))\n",
    "        ax = fig.add_subplot(111)\n",
    "        ax.plot(y_test.values[:100],label='Actual Value')\n",
    "        plt.plot(res2[:100],label='Predicted Value')\n",
    "        plt.legend()\n",
    "        plt.show()\n",
    "    except Exception as e:\n",
    "        print (str(e))"
   ]
  },
  {
   "cell_type": "code",
   "execution_count": 116,
   "metadata": {},
   "outputs": [
    {
     "data": {
      "text/plain": [
       "0.07959310370688759"
      ]
     },
     "execution_count": 116,
     "metadata": {},
     "output_type": "execute_result"
    }
   ],
   "source": [
    "mean_squared_error(res2,y_test)"
   ]
  },
  {
   "cell_type": "code",
   "execution_count": 117,
   "metadata": {},
   "outputs": [
    {
     "data": {
      "text/plain": [
       "((204928, 1, 8), (204928,))"
      ]
     },
     "execution_count": 117,
     "metadata": {},
     "output_type": "execute_result"
    }
   ],
   "source": [
    "X_test_reshaped.shape, y_test.shape"
   ]
  },
  {
   "cell_type": "code",
   "execution_count": 118,
   "metadata": {},
   "outputs": [
    {
     "data": {
      "text/plain": [
       "(204928,)"
      ]
     },
     "execution_count": 118,
     "metadata": {},
     "output_type": "execute_result"
    }
   ],
   "source": [
    "res2.shape"
   ]
  },
  {
   "cell_type": "code",
   "execution_count": 119,
   "metadata": {},
   "outputs": [],
   "source": [
    "def moving_test_window_preds(n_future_preds):\n",
    "\n",
    "    ''' n_future_preds - Represents the number of future predictions we want to make\n",
    "                         This coincides with the number of windows that we will move forward\n",
    "                         on the test data\n",
    "    '''\n",
    "    preds_moving = []                                    # Use this to store the prediction made on each test window\n",
    "    moving_test_window = [X_test_reshaped[0,:].tolist()]          # Creating the first test window\n",
    "    moving_test_window = np.array(moving_test_window)    # Making it an numpy array\n",
    "    \n",
    "    for i in range(n_future_preds):\n",
    "        preds_one_step = model.predict(moving_test_window) # Note that this is already a scaled prediction so no need to rescale this\n",
    "        preds_moving.append(preds_one_step[0,0]) # get the value from the numpy 2D array and append to predictions\n",
    "        preds_one_step = preds_one_step.reshape(1,1,1) # Reshaping the prediction to 3D array for concatenation with moving test window\n",
    "        moving_test_window = np.concatenate((moving_test_window[:,:,:], preds_one_step), axis=1) # This is the new moving test window, where the first element from the window has been removed and the prediction  has been appended to the end\n",
    "        \n",
    "    return preds_moving"
   ]
  },
  {
   "cell_type": "code",
   "execution_count": 120,
   "metadata": {},
   "outputs": [
    {
     "ename": "ValueError",
     "evalue": "all the input array dimensions except for the concatenation axis must match exactly",
     "output_type": "error",
     "traceback": [
      "\u001b[1;31m---------------------------------------------------------------------------\u001b[0m",
      "\u001b[1;31mValueError\u001b[0m                                Traceback (most recent call last)",
      "\u001b[1;32m<ipython-input-120-cf15b05e6515>\u001b[0m in \u001b[0;36m<module>\u001b[1;34m()\u001b[0m\n\u001b[1;32m----> 1\u001b[1;33m \u001b[0mpreds_movin\u001b[0m \u001b[1;33m=\u001b[0m \u001b[0mmoving_test_window_preds\u001b[0m\u001b[1;33m(\u001b[0m\u001b[1;36m50\u001b[0m\u001b[1;33m)\u001b[0m\u001b[1;33m\u001b[0m\u001b[0m\n\u001b[0m",
      "\u001b[1;32m<ipython-input-119-e197dff387e7>\u001b[0m in \u001b[0;36mmoving_test_window_preds\u001b[1;34m(n_future_preds)\u001b[0m\n\u001b[0;32m     13\u001b[0m         \u001b[0mpreds_moving\u001b[0m\u001b[1;33m.\u001b[0m\u001b[0mappend\u001b[0m\u001b[1;33m(\u001b[0m\u001b[0mpreds_one_step\u001b[0m\u001b[1;33m[\u001b[0m\u001b[1;36m0\u001b[0m\u001b[1;33m,\u001b[0m\u001b[1;36m0\u001b[0m\u001b[1;33m]\u001b[0m\u001b[1;33m)\u001b[0m \u001b[1;31m# get the value from the numpy 2D array and append to predictions\u001b[0m\u001b[1;33m\u001b[0m\u001b[0m\n\u001b[0;32m     14\u001b[0m         \u001b[0mpreds_one_step\u001b[0m \u001b[1;33m=\u001b[0m \u001b[0mpreds_one_step\u001b[0m\u001b[1;33m.\u001b[0m\u001b[0mreshape\u001b[0m\u001b[1;33m(\u001b[0m\u001b[1;36m1\u001b[0m\u001b[1;33m,\u001b[0m\u001b[1;36m1\u001b[0m\u001b[1;33m,\u001b[0m\u001b[1;36m1\u001b[0m\u001b[1;33m)\u001b[0m \u001b[1;31m# Reshaping the prediction to 3D array for concatenation with moving test window\u001b[0m\u001b[1;33m\u001b[0m\u001b[0m\n\u001b[1;32m---> 15\u001b[1;33m         \u001b[0mmoving_test_window\u001b[0m \u001b[1;33m=\u001b[0m \u001b[0mnp\u001b[0m\u001b[1;33m.\u001b[0m\u001b[0mconcatenate\u001b[0m\u001b[1;33m(\u001b[0m\u001b[1;33m(\u001b[0m\u001b[0mmoving_test_window\u001b[0m\u001b[1;33m[\u001b[0m\u001b[1;33m:\u001b[0m\u001b[1;33m,\u001b[0m\u001b[1;33m:\u001b[0m\u001b[1;33m,\u001b[0m\u001b[1;33m:\u001b[0m\u001b[1;33m]\u001b[0m\u001b[1;33m,\u001b[0m \u001b[0mpreds_one_step\u001b[0m\u001b[1;33m)\u001b[0m\u001b[1;33m,\u001b[0m \u001b[0maxis\u001b[0m\u001b[1;33m=\u001b[0m\u001b[1;36m1\u001b[0m\u001b[1;33m)\u001b[0m \u001b[1;31m# This is the new moving test window, where the first element from the window has been removed and the prediction  has been appended to the end\u001b[0m\u001b[1;33m\u001b[0m\u001b[0m\n\u001b[0m\u001b[0;32m     16\u001b[0m \u001b[1;33m\u001b[0m\u001b[0m\n\u001b[0;32m     17\u001b[0m     \u001b[1;32mreturn\u001b[0m \u001b[0mpreds_moving\u001b[0m\u001b[1;33m\u001b[0m\u001b[0m\n",
      "\u001b[1;31mValueError\u001b[0m: all the input array dimensions except for the concatenation axis must match exactly"
     ]
    }
   ],
   "source": [
    "preds_movin = moving_test_window_preds(50)"
   ]
  },
  {
   "cell_type": "code",
   "execution_count": 121,
   "metadata": {},
   "outputs": [
    {
     "data": {
      "text/plain": [
       "array([[-0.46462228,  0.06874348,  0.0930337 ,  0.0953532 ,  0.11391216,\n",
       "         0.10927185,  0.04663354, -0.00382616]])"
      ]
     },
     "execution_count": 121,
     "metadata": {},
     "output_type": "execute_result"
    }
   ],
   "source": [
    "X_test_reshaped[0,:]"
   ]
  },
  {
   "cell_type": "code",
   "execution_count": 122,
   "metadata": {},
   "outputs": [],
   "source": [
    "moving_test_window=np.array([X_test_reshaped[0,:].tolist()])"
   ]
  },
  {
   "cell_type": "code",
   "execution_count": 123,
   "metadata": {},
   "outputs": [
    {
     "data": {
      "text/plain": [
       "(1, 1, 8)"
      ]
     },
     "execution_count": 123,
     "metadata": {},
     "output_type": "execute_result"
    }
   ],
   "source": [
    "moving_test_window.shape"
   ]
  },
  {
   "cell_type": "code",
   "execution_count": 124,
   "metadata": {},
   "outputs": [],
   "source": [
    "preds_moving = []"
   ]
  },
  {
   "cell_type": "code",
   "execution_count": 125,
   "metadata": {},
   "outputs": [],
   "source": [
    "preds_one_step = model.predict(moving_test_window) \n",
    "\n"
   ]
  },
  {
   "cell_type": "code",
   "execution_count": 126,
   "metadata": {},
   "outputs": [
    {
     "data": {
      "text/plain": [
       "(1, 1)"
      ]
     },
     "execution_count": 126,
     "metadata": {},
     "output_type": "execute_result"
    }
   ],
   "source": [
    "preds_one_step.shape"
   ]
  },
  {
   "cell_type": "code",
   "execution_count": 127,
   "metadata": {},
   "outputs": [],
   "source": [
    "preds_moving.append(preds_one_step[0,0]) \n"
   ]
  },
  {
   "cell_type": "code",
   "execution_count": 128,
   "metadata": {},
   "outputs": [
    {
     "ename": "AttributeError",
     "evalue": "'list' object has no attribute 'shape'",
     "output_type": "error",
     "traceback": [
      "\u001b[1;31m---------------------------------------------------------------------------\u001b[0m",
      "\u001b[1;31mAttributeError\u001b[0m                            Traceback (most recent call last)",
      "\u001b[1;32m<ipython-input-128-b34aa37d23f5>\u001b[0m in \u001b[0;36m<module>\u001b[1;34m()\u001b[0m\n\u001b[1;32m----> 1\u001b[1;33m \u001b[0mpreds_moving\u001b[0m\u001b[1;33m.\u001b[0m\u001b[0mshape\u001b[0m\u001b[1;33m\u001b[0m\u001b[0m\n\u001b[0m",
      "\u001b[1;31mAttributeError\u001b[0m: 'list' object has no attribute 'shape'"
     ]
    }
   ],
   "source": [
    "preds_moving.shape"
   ]
  },
  {
   "cell_type": "code",
   "execution_count": 129,
   "metadata": {},
   "outputs": [],
   "source": [
    "preds_one_step = preds_one_step.reshape(1,1,1) "
   ]
  },
  {
   "cell_type": "code",
   "execution_count": 130,
   "metadata": {},
   "outputs": [
    {
     "data": {
      "text/plain": [
       "(1, 1, 1)"
      ]
     },
     "execution_count": 130,
     "metadata": {},
     "output_type": "execute_result"
    }
   ],
   "source": [
    "preds_one_step.shape"
   ]
  },
  {
   "cell_type": "code",
   "execution_count": 131,
   "metadata": {},
   "outputs": [
    {
     "data": {
      "text/plain": [
       "array([[[1.1942595]]], dtype=float32)"
      ]
     },
     "execution_count": 131,
     "metadata": {},
     "output_type": "execute_result"
    }
   ],
   "source": [
    "preds_one_step"
   ]
  },
  {
   "cell_type": "code",
   "execution_count": 132,
   "metadata": {},
   "outputs": [
    {
     "data": {
      "text/plain": [
       "array([[[-0.46462228,  0.06874348,  0.0930337 ,  0.0953532 ,\n",
       "          0.11391216,  0.10927185,  0.04663354, -0.00382616]]])"
      ]
     },
     "execution_count": 132,
     "metadata": {},
     "output_type": "execute_result"
    }
   ],
   "source": [
    "moving_test_window"
   ]
  },
  {
   "cell_type": "code",
   "execution_count": 133,
   "metadata": {},
   "outputs": [
    {
     "data": {
      "text/plain": [
       "array([[[-0.46462228,  0.06874348,  0.0930337 ,  0.0953532 ,\n",
       "          0.11391216,  0.10927185,  0.04663354, -0.00382616]]])"
      ]
     },
     "execution_count": 133,
     "metadata": {},
     "output_type": "execute_result"
    }
   ],
   "source": [
    "moving_test_window[:,:,:]"
   ]
  },
  {
   "cell_type": "code",
   "execution_count": 134,
   "metadata": {},
   "outputs": [
    {
     "ename": "ValueError",
     "evalue": "all the input array dimensions except for the concatenation axis must match exactly",
     "output_type": "error",
     "traceback": [
      "\u001b[1;31m---------------------------------------------------------------------------\u001b[0m",
      "\u001b[1;31mValueError\u001b[0m                                Traceback (most recent call last)",
      "\u001b[1;32m<ipython-input-134-4486a9094543>\u001b[0m in \u001b[0;36m<module>\u001b[1;34m()\u001b[0m\n\u001b[1;32m----> 1\u001b[1;33m \u001b[0mnew\u001b[0m \u001b[1;33m=\u001b[0m \u001b[0mnp\u001b[0m\u001b[1;33m.\u001b[0m\u001b[0mconcatenate\u001b[0m\u001b[1;33m(\u001b[0m\u001b[1;33m(\u001b[0m\u001b[0mmoving_test_window\u001b[0m\u001b[1;33m[\u001b[0m\u001b[1;33m:\u001b[0m\u001b[1;33m,\u001b[0m\u001b[1;33m:\u001b[0m\u001b[1;33m,\u001b[0m\u001b[1;33m:\u001b[0m\u001b[1;33m]\u001b[0m\u001b[1;33m,\u001b[0m \u001b[0mpreds_one_step\u001b[0m\u001b[1;33m)\u001b[0m\u001b[1;33m,\u001b[0m \u001b[0maxis\u001b[0m\u001b[1;33m=\u001b[0m\u001b[1;36m1\u001b[0m\u001b[1;33m)\u001b[0m\u001b[1;33m\u001b[0m\u001b[0m\n\u001b[0m",
      "\u001b[1;31mValueError\u001b[0m: all the input array dimensions except for the concatenation axis must match exactly"
     ]
    }
   ],
   "source": [
    "new = np.concatenate((moving_test_window[:,:,:], preds_one_step), axis=1)"
   ]
  },
  {
   "cell_type": "code",
   "execution_count": 135,
   "metadata": {},
   "outputs": [
    {
     "ename": "AttributeError",
     "evalue": "'numpy.ndarray' object has no attribute 'concat'",
     "output_type": "error",
     "traceback": [
      "\u001b[1;31m---------------------------------------------------------------------------\u001b[0m",
      "\u001b[1;31mAttributeError\u001b[0m                            Traceback (most recent call last)",
      "\u001b[1;32m<ipython-input-135-bb4c11eafda6>\u001b[0m in \u001b[0;36m<module>\u001b[1;34m()\u001b[0m\n\u001b[1;32m----> 1\u001b[1;33m \u001b[0mmoving_test_window\u001b[0m\u001b[1;33m.\u001b[0m\u001b[0mconcat\u001b[0m\u001b[1;33m(\u001b[0m\u001b[0mpreds_one_step\u001b[0m\u001b[1;33m)\u001b[0m\u001b[1;33m\u001b[0m\u001b[0m\n\u001b[0m",
      "\u001b[1;31mAttributeError\u001b[0m: 'numpy.ndarray' object has no attribute 'concat'"
     ]
    }
   ],
   "source": [
    "moving_test_window.concat(preds_one_step)"
   ]
  },
  {
   "cell_type": "code",
   "execution_count": null,
   "metadata": {},
   "outputs": [],
   "source": []
  },
  {
   "cell_type": "code",
   "execution_count": null,
   "metadata": {},
   "outputs": [],
   "source": []
  },
  {
   "cell_type": "code",
   "execution_count": null,
   "metadata": {},
   "outputs": [],
   "source": []
  },
  {
   "cell_type": "code",
   "execution_count": null,
   "metadata": {},
   "outputs": [],
   "source": []
  },
  {
   "cell_type": "code",
   "execution_count": null,
   "metadata": {},
   "outputs": [],
   "source": []
  }
 ],
 "metadata": {
  "kernelspec": {
   "display_name": "Python 3",
   "language": "python",
   "name": "python3"
  },
  "language_info": {
   "codemirror_mode": {
    "name": "ipython",
    "version": 3
   },
   "file_extension": ".py",
   "mimetype": "text/x-python",
   "name": "python",
   "nbconvert_exporter": "python",
   "pygments_lexer": "ipython3",
   "version": "3.5.4"
  }
 },
 "nbformat": 4,
 "nbformat_minor": 2
}
